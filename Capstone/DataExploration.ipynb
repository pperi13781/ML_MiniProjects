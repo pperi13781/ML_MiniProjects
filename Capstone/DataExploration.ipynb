{
  "nbformat": 4,
  "nbformat_minor": 0,
  "metadata": {
    "colab": {
      "name": "DataExploration.ipynb",
      "provenance": [],
      "collapsed_sections": []
    },
    "kernelspec": {
      "name": "python3",
      "display_name": "Python 3"
    },
    "language_info": {
      "name": "python"
    }
  },
  "cells": [
    {
      "cell_type": "code",
      "metadata": {
        "id": "KlniKX2saGrh"
      },
      "source": [
        "#In this notebook, I clean and wrangle the data I need to put together my movie recommender\n",
        "\n",
        "import pandas as pd\n",
        "import time\n",
        "import sys"
      ],
      "execution_count": null,
      "outputs": []
    },
    {
      "cell_type": "code",
      "metadata": {
        "colab": {
          "base_uri": "https://localhost:8080/",
          "height": 204
        },
        "id": "vZr14Pmtea-H",
        "outputId": "228a00e7-1967-4d7d-d1ba-57c80e17895b"
      },
      "source": [
        "#examining the ratings dataset\n",
        "\n",
        "ratings= pd.read_csv('/content/drive/MyDrive/Datasets/ml-latest/ratings.csv')\n",
        "ratings.head()"
      ],
      "execution_count": null,
      "outputs": [
        {
          "output_type": "execute_result",
          "data": {
            "text/html": [
              "<div>\n",
              "<style scoped>\n",
              "    .dataframe tbody tr th:only-of-type {\n",
              "        vertical-align: middle;\n",
              "    }\n",
              "\n",
              "    .dataframe tbody tr th {\n",
              "        vertical-align: top;\n",
              "    }\n",
              "\n",
              "    .dataframe thead th {\n",
              "        text-align: right;\n",
              "    }\n",
              "</style>\n",
              "<table border=\"1\" class=\"dataframe\">\n",
              "  <thead>\n",
              "    <tr style=\"text-align: right;\">\n",
              "      <th></th>\n",
              "      <th>userId</th>\n",
              "      <th>movieId</th>\n",
              "      <th>rating</th>\n",
              "      <th>timestamp</th>\n",
              "    </tr>\n",
              "  </thead>\n",
              "  <tbody>\n",
              "    <tr>\n",
              "      <th>0</th>\n",
              "      <td>1</td>\n",
              "      <td>307</td>\n",
              "      <td>3.5</td>\n",
              "      <td>1256677221</td>\n",
              "    </tr>\n",
              "    <tr>\n",
              "      <th>1</th>\n",
              "      <td>1</td>\n",
              "      <td>481</td>\n",
              "      <td>3.5</td>\n",
              "      <td>1256677456</td>\n",
              "    </tr>\n",
              "    <tr>\n",
              "      <th>2</th>\n",
              "      <td>1</td>\n",
              "      <td>1091</td>\n",
              "      <td>1.5</td>\n",
              "      <td>1256677471</td>\n",
              "    </tr>\n",
              "    <tr>\n",
              "      <th>3</th>\n",
              "      <td>1</td>\n",
              "      <td>1257</td>\n",
              "      <td>4.5</td>\n",
              "      <td>1256677460</td>\n",
              "    </tr>\n",
              "    <tr>\n",
              "      <th>4</th>\n",
              "      <td>1</td>\n",
              "      <td>1449</td>\n",
              "      <td>4.5</td>\n",
              "      <td>1256677264</td>\n",
              "    </tr>\n",
              "  </tbody>\n",
              "</table>\n",
              "</div>"
            ],
            "text/plain": [
              "   userId  movieId  rating   timestamp\n",
              "0       1      307     3.5  1256677221\n",
              "1       1      481     3.5  1256677456\n",
              "2       1     1091     1.5  1256677471\n",
              "3       1     1257     4.5  1256677460\n",
              "4       1     1449     4.5  1256677264"
            ]
          },
          "metadata": {},
          "execution_count": 52
        }
      ]
    },
    {
      "cell_type": "code",
      "metadata": {
        "colab": {
          "base_uri": "https://localhost:8080/",
          "height": 204
        },
        "id": "-lkSTQ_ogtqj",
        "outputId": "f5c74b9b-09e9-49ed-b738-914a3927931c"
      },
      "source": [
        "#examining the movies dataset\n",
        "\n",
        "movies= pd.read_csv('/content/drive/MyDrive/Datasets/ml-latest/movies.csv')\n",
        "movies.head()"
      ],
      "execution_count": null,
      "outputs": [
        {
          "output_type": "execute_result",
          "data": {
            "text/html": [
              "<div>\n",
              "<style scoped>\n",
              "    .dataframe tbody tr th:only-of-type {\n",
              "        vertical-align: middle;\n",
              "    }\n",
              "\n",
              "    .dataframe tbody tr th {\n",
              "        vertical-align: top;\n",
              "    }\n",
              "\n",
              "    .dataframe thead th {\n",
              "        text-align: right;\n",
              "    }\n",
              "</style>\n",
              "<table border=\"1\" class=\"dataframe\">\n",
              "  <thead>\n",
              "    <tr style=\"text-align: right;\">\n",
              "      <th></th>\n",
              "      <th>movieId</th>\n",
              "      <th>title</th>\n",
              "      <th>genres</th>\n",
              "    </tr>\n",
              "  </thead>\n",
              "  <tbody>\n",
              "    <tr>\n",
              "      <th>0</th>\n",
              "      <td>1</td>\n",
              "      <td>Toy Story (1995)</td>\n",
              "      <td>Adventure|Animation|Children|Comedy|Fantasy</td>\n",
              "    </tr>\n",
              "    <tr>\n",
              "      <th>1</th>\n",
              "      <td>2</td>\n",
              "      <td>Jumanji (1995)</td>\n",
              "      <td>Adventure|Children|Fantasy</td>\n",
              "    </tr>\n",
              "    <tr>\n",
              "      <th>2</th>\n",
              "      <td>3</td>\n",
              "      <td>Grumpier Old Men (1995)</td>\n",
              "      <td>Comedy|Romance</td>\n",
              "    </tr>\n",
              "    <tr>\n",
              "      <th>3</th>\n",
              "      <td>4</td>\n",
              "      <td>Waiting to Exhale (1995)</td>\n",
              "      <td>Comedy|Drama|Romance</td>\n",
              "    </tr>\n",
              "    <tr>\n",
              "      <th>4</th>\n",
              "      <td>5</td>\n",
              "      <td>Father of the Bride Part II (1995)</td>\n",
              "      <td>Comedy</td>\n",
              "    </tr>\n",
              "  </tbody>\n",
              "</table>\n",
              "</div>"
            ],
            "text/plain": [
              "   movieId  ...                                       genres\n",
              "0        1  ...  Adventure|Animation|Children|Comedy|Fantasy\n",
              "1        2  ...                   Adventure|Children|Fantasy\n",
              "2        3  ...                               Comedy|Romance\n",
              "3        4  ...                         Comedy|Drama|Romance\n",
              "4        5  ...                                       Comedy\n",
              "\n",
              "[5 rows x 3 columns]"
            ]
          },
          "metadata": {},
          "execution_count": 53
        }
      ]
    },
    {
      "cell_type": "code",
      "metadata": {
        "colab": {
          "base_uri": "https://localhost:8080/"
        },
        "id": "asnryDRzhWax",
        "outputId": "3cc71a6a-1ea2-4dab-d957-1cada2d5927a"
      },
      "source": [
        "movies.info()"
      ],
      "execution_count": null,
      "outputs": [
        {
          "output_type": "stream",
          "name": "stdout",
          "text": [
            "<class 'pandas.core.frame.DataFrame'>\n",
            "RangeIndex: 58098 entries, 0 to 58097\n",
            "Data columns (total 3 columns):\n",
            " #   Column   Non-Null Count  Dtype \n",
            "---  ------   --------------  ----- \n",
            " 0   movieId  58098 non-null  int64 \n",
            " 1   title    58098 non-null  object\n",
            " 2   genres   58098 non-null  object\n",
            "dtypes: int64(1), object(2)\n",
            "memory usage: 1.3+ MB\n"
          ]
        }
      ]
    },
    {
      "cell_type": "code",
      "metadata": {
        "colab": {
          "base_uri": "https://localhost:8080/",
          "height": 235
        },
        "id": "5iWi8cxoiS5A",
        "outputId": "40baa2e3-219e-42c4-ca22-61fc1d64d06b"
      },
      "source": [
        "#cleaning movies dataset\n",
        "\n",
        "#splitting genres into distinct values\n",
        "movies['genres'] = movies['genres'].str.split('|')\n",
        "\n",
        "#adding year column to dataset\n",
        "movies['year']=movies['title'].str[-5:-1]\n",
        "\n",
        "#drop the movies without year in title\n",
        "movies=movies[(movies['title'].str[-1]==')')&(movies['title'].str[-6]=='(')]\n",
        "movies.year=pd.to_numeric(movies.year)\n",
        "\n",
        "movies=movies.set_index('movieId')\n",
        "movies.sort_values('year').head()"
      ],
      "execution_count": null,
      "outputs": [
        {
          "output_type": "execute_result",
          "data": {
            "text/html": [
              "<div>\n",
              "<style scoped>\n",
              "    .dataframe tbody tr th:only-of-type {\n",
              "        vertical-align: middle;\n",
              "    }\n",
              "\n",
              "    .dataframe tbody tr th {\n",
              "        vertical-align: top;\n",
              "    }\n",
              "\n",
              "    .dataframe thead th {\n",
              "        text-align: right;\n",
              "    }\n",
              "</style>\n",
              "<table border=\"1\" class=\"dataframe\">\n",
              "  <thead>\n",
              "    <tr style=\"text-align: right;\">\n",
              "      <th></th>\n",
              "      <th>title</th>\n",
              "      <th>genres</th>\n",
              "      <th>year</th>\n",
              "    </tr>\n",
              "    <tr>\n",
              "      <th>movieId</th>\n",
              "      <th></th>\n",
              "      <th></th>\n",
              "      <th></th>\n",
              "    </tr>\n",
              "  </thead>\n",
              "  <tbody>\n",
              "    <tr>\n",
              "      <th>148054</th>\n",
              "      <td>Passage de Venus (1874)</td>\n",
              "      <td>[Documentary]</td>\n",
              "      <td>1874</td>\n",
              "    </tr>\n",
              "    <tr>\n",
              "      <th>148048</th>\n",
              "      <td>Sallie Gardner at a Gallop (1878)</td>\n",
              "      <td>[(no genres listed)]</td>\n",
              "      <td>1878</td>\n",
              "    </tr>\n",
              "    <tr>\n",
              "      <th>166800</th>\n",
              "      <td>Buffalo Running (1883)</td>\n",
              "      <td>[(no genres listed)]</td>\n",
              "      <td>1883</td>\n",
              "    </tr>\n",
              "    <tr>\n",
              "      <th>148040</th>\n",
              "      <td>Man Walking Around a Corner (1887)</td>\n",
              "      <td>[(no genres listed)]</td>\n",
              "      <td>1887</td>\n",
              "    </tr>\n",
              "    <tr>\n",
              "      <th>148042</th>\n",
              "      <td>Accordion Player (1888)</td>\n",
              "      <td>[Documentary]</td>\n",
              "      <td>1888</td>\n",
              "    </tr>\n",
              "  </tbody>\n",
              "</table>\n",
              "</div>"
            ],
            "text/plain": [
              "                                      title                genres  year\n",
              "movieId                                                                \n",
              "148054              Passage de Venus (1874)         [Documentary]  1874\n",
              "148048    Sallie Gardner at a Gallop (1878)  [(no genres listed)]  1878\n",
              "166800               Buffalo Running (1883)  [(no genres listed)]  1883\n",
              "148040   Man Walking Around a Corner (1887)  [(no genres listed)]  1887\n",
              "148042              Accordion Player (1888)         [Documentary]  1888"
            ]
          },
          "metadata": {},
          "execution_count": 55
        }
      ]
    },
    {
      "cell_type": "code",
      "metadata": {
        "colab": {
          "base_uri": "https://localhost:8080/",
          "height": 255
        },
        "id": "FQ8Rk9pNsk_R",
        "outputId": "fbee3acc-9ba3-44b7-a5c2-95496dfc9531"
      },
      "source": [
        "genres = movies.reset_index().set_index(['movieId','title','year'])['genres'].apply(pd.Series).stack()\n",
        "genres = genres.reset_index()\n",
        "genres.columns=['movieId','title','year','level','genres']\n",
        "genres.to_csv('/content/drive/MyDrive/Datasets/ml-latest/genres.csv')\n",
        "print('Available Genres: ',genres.genres.unique())\n",
        "genres.head()"
      ],
      "execution_count": null,
      "outputs": [
        {
          "output_type": "stream",
          "name": "stdout",
          "text": [
            "Available Genres:  ['Adventure' 'Animation' 'Children' 'Comedy' 'Fantasy' 'Romance' 'Drama'\n",
            " 'Action' 'Crime' 'Thriller' 'Horror' 'Mystery' 'Sci-Fi' 'IMAX'\n",
            " 'Documentary' 'War' 'Musical' 'Western' 'Film-Noir' '(no genres listed)']\n"
          ]
        },
        {
          "output_type": "execute_result",
          "data": {
            "text/html": [
              "<div>\n",
              "<style scoped>\n",
              "    .dataframe tbody tr th:only-of-type {\n",
              "        vertical-align: middle;\n",
              "    }\n",
              "\n",
              "    .dataframe tbody tr th {\n",
              "        vertical-align: top;\n",
              "    }\n",
              "\n",
              "    .dataframe thead th {\n",
              "        text-align: right;\n",
              "    }\n",
              "</style>\n",
              "<table border=\"1\" class=\"dataframe\">\n",
              "  <thead>\n",
              "    <tr style=\"text-align: right;\">\n",
              "      <th></th>\n",
              "      <th>movieId</th>\n",
              "      <th>title</th>\n",
              "      <th>year</th>\n",
              "      <th>level</th>\n",
              "      <th>genres</th>\n",
              "    </tr>\n",
              "  </thead>\n",
              "  <tbody>\n",
              "    <tr>\n",
              "      <th>0</th>\n",
              "      <td>1</td>\n",
              "      <td>Toy Story (1995)</td>\n",
              "      <td>1995</td>\n",
              "      <td>0</td>\n",
              "      <td>Adventure</td>\n",
              "    </tr>\n",
              "    <tr>\n",
              "      <th>1</th>\n",
              "      <td>1</td>\n",
              "      <td>Toy Story (1995)</td>\n",
              "      <td>1995</td>\n",
              "      <td>1</td>\n",
              "      <td>Animation</td>\n",
              "    </tr>\n",
              "    <tr>\n",
              "      <th>2</th>\n",
              "      <td>1</td>\n",
              "      <td>Toy Story (1995)</td>\n",
              "      <td>1995</td>\n",
              "      <td>2</td>\n",
              "      <td>Children</td>\n",
              "    </tr>\n",
              "    <tr>\n",
              "      <th>3</th>\n",
              "      <td>1</td>\n",
              "      <td>Toy Story (1995)</td>\n",
              "      <td>1995</td>\n",
              "      <td>3</td>\n",
              "      <td>Comedy</td>\n",
              "    </tr>\n",
              "    <tr>\n",
              "      <th>4</th>\n",
              "      <td>1</td>\n",
              "      <td>Toy Story (1995)</td>\n",
              "      <td>1995</td>\n",
              "      <td>4</td>\n",
              "      <td>Fantasy</td>\n",
              "    </tr>\n",
              "  </tbody>\n",
              "</table>\n",
              "</div>"
            ],
            "text/plain": [
              "   movieId             title  year  level     genres\n",
              "0        1  Toy Story (1995)  1995      0  Adventure\n",
              "1        1  Toy Story (1995)  1995      1  Animation\n",
              "2        1  Toy Story (1995)  1995      2   Children\n",
              "3        1  Toy Story (1995)  1995      3     Comedy\n",
              "4        1  Toy Story (1995)  1995      4    Fantasy"
            ]
          },
          "metadata": {},
          "execution_count": 56
        }
      ]
    },
    {
      "cell_type": "code",
      "metadata": {
        "colab": {
          "base_uri": "https://localhost:8080/",
          "height": 235
        },
        "id": "9KHGQYr3G7zU",
        "outputId": "67b779f1-0d88-444c-a7d2-03778f9d90fb"
      },
      "source": [
        "df = pd.merge(ratings,movies,on='movieId')\n",
        "ratings = pd.DataFrame(df.groupby('title')['rating'].mean())\n",
        "ratings['num of ratings'] = pd.DataFrame(df.groupby('title')['rating'].count())\n",
        "ratings.head()"
      ],
      "execution_count": null,
      "outputs": [
        {
          "output_type": "execute_result",
          "data": {
            "text/html": [
              "<div>\n",
              "<style scoped>\n",
              "    .dataframe tbody tr th:only-of-type {\n",
              "        vertical-align: middle;\n",
              "    }\n",
              "\n",
              "    .dataframe tbody tr th {\n",
              "        vertical-align: top;\n",
              "    }\n",
              "\n",
              "    .dataframe thead th {\n",
              "        text-align: right;\n",
              "    }\n",
              "</style>\n",
              "<table border=\"1\" class=\"dataframe\">\n",
              "  <thead>\n",
              "    <tr style=\"text-align: right;\">\n",
              "      <th></th>\n",
              "      <th>rating</th>\n",
              "      <th>num of ratings</th>\n",
              "    </tr>\n",
              "    <tr>\n",
              "      <th>title</th>\n",
              "      <th></th>\n",
              "      <th></th>\n",
              "    </tr>\n",
              "  </thead>\n",
              "  <tbody>\n",
              "    <tr>\n",
              "      <th>\"Great Performances\" Cats (1998)</th>\n",
              "      <td>2.815556</td>\n",
              "      <td>225</td>\n",
              "    </tr>\n",
              "    <tr>\n",
              "      <th>#1 Cheerleader Camp (2010)</th>\n",
              "      <td>2.777778</td>\n",
              "      <td>9</td>\n",
              "    </tr>\n",
              "    <tr>\n",
              "      <th>#Captured (2017)</th>\n",
              "      <td>2.500000</td>\n",
              "      <td>1</td>\n",
              "    </tr>\n",
              "    <tr>\n",
              "      <th>#Horror (2015)</th>\n",
              "      <td>2.078947</td>\n",
              "      <td>19</td>\n",
              "    </tr>\n",
              "    <tr>\n",
              "      <th>#SCREAMERS (2016)</th>\n",
              "      <td>2.500000</td>\n",
              "      <td>1</td>\n",
              "    </tr>\n",
              "  </tbody>\n",
              "</table>\n",
              "</div>"
            ],
            "text/plain": [
              "                                    rating  num of ratings\n",
              "title                                                     \n",
              "\"Great Performances\" Cats (1998)  2.815556             225\n",
              "#1 Cheerleader Camp (2010)        2.777778               9\n",
              "#Captured (2017)                  2.500000               1\n",
              "#Horror (2015)                    2.078947              19\n",
              "#SCREAMERS (2016)                 2.500000               1"
            ]
          },
          "metadata": {},
          "execution_count": 57
        }
      ]
    },
    {
      "cell_type": "code",
      "metadata": {
        "colab": {
          "base_uri": "https://localhost:8080/",
          "height": 359
        },
        "id": "rUsbfZx8ILJ2",
        "outputId": "c1a72fc5-f6eb-4b96-8ada-531712d6aa95"
      },
      "source": [
        "sep['genres'].value_counts().plot(kind='bar')\n",
        "plt.ylabel('Number of movies')\n",
        "plt.xlabel('Genre')\n",
        "plt.show()"
      ],
      "execution_count": null,
      "outputs": [
        {
          "output_type": "display_data",
          "data": {
            "image/png": "[encoded data removed]",
            "text/plain": [
              "<Figure size 432x288 with 1 Axes>"
            ]
          },
          "metadata": {
            "needs_background": "light"
          }
        }
      ]
    },
    {
      "cell_type": "code",
      "metadata": {
        "colab": {
          "base_uri": "https://localhost:8080/"
        },
        "id": "nZRaXJLjJZth",
        "outputId": "5e68d90f-dfb8-4805-c9ad-23f1169c8758"
      },
      "source": [
        "print('there are ' + str(sum(movies['title'].value_counts()>1)) + ' movies with the same title')"
      ],
      "execution_count": null,
      "outputs": [
        {
          "output_type": "stream",
          "name": "stdout",
          "text": [
            "there are 78 movies with the same title\n"
          ]
        }
      ]
    },
    {
      "cell_type": "code",
      "metadata": {
        "colab": {
          "base_uri": "https://localhost:8080/"
        },
        "id": "WYDvH9HQJ21J",
        "outputId": "fec90109-2d20-4a9b-d71d-f1437e512eb3"
      },
      "source": [
        "movies['title'].value_counts().head(78)"
      ],
      "execution_count": null,
      "outputs": [
        {
          "output_type": "execute_result",
          "data": {
            "text/plain": [
              "Truth (2015)                           2\n",
              "War of the Worlds (2005)               2\n",
              "Ecstasy (2011)                         2\n",
              "Eros (2004)                            2\n",
              "Office (2015)                          2\n",
              "                                      ..\n",
              "20,000 Leagues Under the Sea (1997)    2\n",
              "Casanova (2005)                        2\n",
              "Interrogation (2016)                   2\n",
              "Macbeth (2015)                         2\n",
              "Another World (2014)                   2\n",
              "Name: title, Length: 78, dtype: int64"
            ]
          },
          "metadata": {},
          "execution_count": 65
        }
      ]
    },
    {
      "cell_type": "code",
      "metadata": {
        "colab": {
          "base_uri": "https://localhost:8080/"
        },
        "id": "TAHZJaTbKKCP",
        "outputId": "a212b68e-9cdd-4f29-976d-a381dc1a8dd8"
      },
      "source": [
        "r.rating.value_counts()"
      ],
      "execution_count": null,
      "outputs": [
        {
          "output_type": "execute_result",
          "data": {
            "text/plain": [
              "4.0    7394710\n",
              "3.0    5515668\n",
              "5.0    4071135\n",
              "3.5    3404360\n",
              "4.5    2373550\n",
              "2.0    1850627\n",
              "2.5    1373419\n",
              "1.0     886233\n",
              "0.5     442388\n",
              "1.5     441354\n",
              "Name: rating, dtype: int64"
            ]
          },
          "metadata": {},
          "execution_count": 66
        }
      ]
    },
    {
      "cell_type": "code",
      "metadata": {
        "colab": {
          "base_uri": "https://localhost:8080/"
        },
        "id": "SOIpFI0dKOIW",
        "outputId": "56fc3cd9-f0e2-43bb-a3d6-8b8a775174fc"
      },
      "source": [
        "List=[]\n",
        "for i in np.arange(4,5.5, 0.5):\n",
        "    M=movies.loc[r[r.rating==i].movieId.value_counts().head(10).index,'title']\n",
        "    print('Rate: %f' %i)\n",
        "    print(M)\n",
        "    print(' ')"
      ],
      "execution_count": null,
      "outputs": [
        {
          "output_type": "stream",
          "name": "stdout",
          "text": [
            "Rate: 4.000000\n",
            "593              Silence of the Lambs, The (1991)\n",
            "356                           Forrest Gump (1994)\n",
            "480                          Jurassic Park (1993)\n",
            "457                          Fugitive, The (1993)\n",
            "1                                Toy Story (1995)\n",
            "296                           Pulp Fiction (1994)\n",
            "318              Shawshank Redemption, The (1994)\n",
            "260     Star Wars: Episode IV - A New Hope (1977)\n",
            "2571                           Matrix, The (1999)\n",
            "589             Terminator 2: Judgment Day (1991)\n",
            "Name: title, dtype: object\n",
            " \n",
            "Rate: 4.500000\n",
            "318                      Shawshank Redemption, The (1994)\n",
            "2571                                   Matrix, The (1999)\n",
            "2959                                    Fight Club (1999)\n",
            "296                                   Pulp Fiction (1994)\n",
            "4993    Lord of the Rings: The Fellowship of the Ring,...\n",
            "356                                   Forrest Gump (1994)\n",
            "7153    Lord of the Rings: The Return of the King, The...\n",
            "5952        Lord of the Rings: The Two Towers, The (2002)\n",
            "593                      Silence of the Lambs, The (1991)\n",
            "50                             Usual Suspects, The (1995)\n",
            "Name: title, dtype: object\n",
            " \n",
            "Rate: 5.000000\n",
            "318              Shawshank Redemption, The (1994)\n",
            "296                           Pulp Fiction (1994)\n",
            "356                           Forrest Gump (1994)\n",
            "260     Star Wars: Episode IV - A New Hope (1977)\n",
            "593              Silence of the Lambs, The (1991)\n",
            "527                       Schindler's List (1993)\n",
            "2571                           Matrix, The (1999)\n",
            "858                         Godfather, The (1972)\n",
            "50                     Usual Suspects, The (1995)\n",
            "2959                            Fight Club (1999)\n",
            "Name: title, dtype: object\n",
            " \n"
          ]
        }
      ]
    }
  ]
}