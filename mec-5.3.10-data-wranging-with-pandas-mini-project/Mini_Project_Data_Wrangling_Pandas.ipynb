{
  "nbformat": 4,
  "nbformat_minor": 0,
  "metadata": {
    "kernelspec": {
      "display_name": "Python 3",
      "language": "python",
      "name": "python3"
    },
    "language_info": {
      "codemirror_mode": {
        "name": "ipython",
        "version": 3
      },
      "file_extension": ".py",
      "mimetype": "text/x-python",
      "name": "python",
      "nbconvert_exporter": "python",
      "pygments_lexer": "ipython3",
      "version": "3.7.6"
    },
    "colab": {
      "name": "Mini_Project_Data_Wrangling_Pandas.ipynb",
      "provenance": [],
      "collapsed_sections": [],
      "toc_visible": true
    }
  },
  "cells": [
    {
      "cell_type": "markdown",
      "metadata": {
        "id": "rGYTqTQbel1g"
      },
      "source": [
        "# Mini-Project: Data Wrangling and Transformation with Pandas\n",
        "\n",
        "Working with tabular data is a necessity for anyone with enterprises having a majority of their data in relational databases and flat files. This mini-project is adopted from the excellent tutorial on pandas by Brandon Rhodes which you have watched earlier in the Data Wrangling Unit. In this mini-project, we will be looking at some interesting data based on movie data from the IMDB.\n",
        "\n",
        "This assignment should help you reinforce the concepts you learnt in the curriculum for Data Wrangling and sharpen your skills in using Pandas. Good Luck!"
      ]
    },
    {
      "cell_type": "markdown",
      "metadata": {
        "id": "qVWbWtRlel1m"
      },
      "source": [
        "### Please make sure you have one of the more recent versions of Pandas"
      ]
    },
    {
      "cell_type": "code",
      "metadata": {
        "id": "3nnwiM8Wel1n"
      },
      "source": [
        "import pandas as pd\n",
        "import matplotlib.pyplot as plt\n",
        "\n",
        "%matplotlib inline"
      ],
      "execution_count": 2,
      "outputs": []
    },
    {
      "cell_type": "code",
      "metadata": {
        "id": "o9TlDx7fel1n",
        "colab": {
          "base_uri": "https://localhost:8080/",
          "height": 35
        },
        "outputId": "dff89e31-f5a0-45b3-a7bd-028af0e9c7f9"
      },
      "source": [
        "pd.__version__"
      ],
      "execution_count": 3,
      "outputs": [
        {
          "output_type": "execute_result",
          "data": {
            "application/vnd.google.colaboratory.intrinsic+json": {
              "type": "string"
            },
            "text/plain": [
              "'1.1.5'"
            ]
          },
          "metadata": {
            "tags": []
          },
          "execution_count": 3
        }
      ]
    },
    {
      "cell_type": "markdown",
      "metadata": {
        "id": "UbiSJf1Kel1p"
      },
      "source": [
        "## Taking a look at the Movies dataset\n",
        "This data shows the movies based on their title and the year of release"
      ]
    },
    {
      "cell_type": "code",
      "metadata": {
        "id": "kGURnJQOel1p",
        "colab": {
          "base_uri": "https://localhost:8080/"
        },
        "outputId": "f0f748bd-1ddc-4927-db43-ba74b8cf6f4e"
      },
      "source": [
        "movies = pd.read_csv('/content/drive/MyDrive/UCSD_MLE/Projects/mec-5.3.10-data-wranging-with-pandas-mini-project/titles.csv')\n",
        "movies.info()"
      ],
      "execution_count": 6,
      "outputs": [
        {
          "output_type": "stream",
          "text": [
            "<class 'pandas.core.frame.DataFrame'>\n",
            "RangeIndex: 244914 entries, 0 to 244913\n",
            "Data columns (total 2 columns):\n",
            " #   Column  Non-Null Count   Dtype \n",
            "---  ------  --------------   ----- \n",
            " 0   title   244914 non-null  object\n",
            " 1   year    244914 non-null  int64 \n",
            "dtypes: int64(1), object(1)\n",
            "memory usage: 3.7+ MB\n"
          ],
          "name": "stdout"
        }
      ]
    },
    {
      "cell_type": "code",
      "metadata": {
        "colab": {
          "base_uri": "https://localhost:8080/"
        },
        "id": "TD_N5Msv-dlo",
        "outputId": "fa148052-a84f-4335-856f-ae1b58b8a1d0"
      },
      "source": [
        "from google.colab import drive\n",
        "drive.mount('/content/drive')"
      ],
      "execution_count": 1,
      "outputs": [
        {
          "output_type": "stream",
          "text": [
            "Mounted at /content/drive\n"
          ],
          "name": "stdout"
        }
      ]
    },
    {
      "cell_type": "code",
      "metadata": {
        "id": "aE6tX1cBel1p",
        "colab": {
          "base_uri": "https://localhost:8080/",
          "height": 204
        },
        "outputId": "dacecfc7-2e80-4a4e-c872-a3d706a9a9c8"
      },
      "source": [
        "movies.head()"
      ],
      "execution_count": 7,
      "outputs": [
        {
          "output_type": "execute_result",
          "data": {
            "text/html": [
              "<div>\n",
              "<style scoped>\n",
              "    .dataframe tbody tr th:only-of-type {\n",
              "        vertical-align: middle;\n",
              "    }\n",
              "\n",
              "    .dataframe tbody tr th {\n",
              "        vertical-align: top;\n",
              "    }\n",
              "\n",
              "    .dataframe thead th {\n",
              "        text-align: right;\n",
              "    }\n",
              "</style>\n",
              "<table border=\"1\" class=\"dataframe\">\n",
              "  <thead>\n",
              "    <tr style=\"text-align: right;\">\n",
              "      <th></th>\n",
              "      <th>title</th>\n",
              "      <th>year</th>\n",
              "    </tr>\n",
              "  </thead>\n",
              "  <tbody>\n",
              "    <tr>\n",
              "      <th>0</th>\n",
              "      <td>The Ticket to the Life</td>\n",
              "      <td>2009</td>\n",
              "    </tr>\n",
              "    <tr>\n",
              "      <th>1</th>\n",
              "      <td>Parallel Worlds: A New Rock Music Experience</td>\n",
              "      <td>2016</td>\n",
              "    </tr>\n",
              "    <tr>\n",
              "      <th>2</th>\n",
              "      <td>Morita - La hija de Jesus</td>\n",
              "      <td>2008</td>\n",
              "    </tr>\n",
              "    <tr>\n",
              "      <th>3</th>\n",
              "      <td>Gun</td>\n",
              "      <td>2017</td>\n",
              "    </tr>\n",
              "    <tr>\n",
              "      <th>4</th>\n",
              "      <td>Love or Nothing at All</td>\n",
              "      <td>2014</td>\n",
              "    </tr>\n",
              "  </tbody>\n",
              "</table>\n",
              "</div>"
            ],
            "text/plain": [
              "                                          title  year\n",
              "0                        The Ticket to the Life  2009\n",
              "1  Parallel Worlds: A New Rock Music Experience  2016\n",
              "2                     Morita - La hija de Jesus  2008\n",
              "3                                           Gun  2017\n",
              "4                        Love or Nothing at All  2014"
            ]
          },
          "metadata": {
            "tags": []
          },
          "execution_count": 7
        }
      ]
    },
    {
      "cell_type": "markdown",
      "metadata": {
        "id": "8AZUzJ9Vel1q"
      },
      "source": [
        "## Taking a look at the Cast dataset\n",
        "\n",
        "This data shows the cast (actors, actresses, supporting roles) for each movie\n",
        "\n",
        "- The attribute `n` basically tells the importance of the cast role, lower the number, more important the role.\n",
        "- Supporting cast usually don't have any value for `n`"
      ]
    },
    {
      "cell_type": "code",
      "metadata": {
        "id": "dtblX13Hel1q",
        "colab": {
          "base_uri": "https://localhost:8080/"
        },
        "outputId": "34e13d63-db58-4f96-a270-946257398572"
      },
      "source": [
        "cast = pd.read_csv('/content/drive/MyDrive/UCSD_MLE/Projects/mec-5.3.10-data-wranging-with-pandas-mini-project/cast.csv')\n",
        "cast.info()"
      ],
      "execution_count": 8,
      "outputs": [
        {
          "output_type": "stream",
          "text": [
            "<class 'pandas.core.frame.DataFrame'>\n",
            "RangeIndex: 3786176 entries, 0 to 3786175\n",
            "Data columns (total 6 columns):\n",
            " #   Column     Dtype  \n",
            "---  ------     -----  \n",
            " 0   title      object \n",
            " 1   year       int64  \n",
            " 2   name       object \n",
            " 3   type       object \n",
            " 4   character  object \n",
            " 5   n          float64\n",
            "dtypes: float64(1), int64(1), object(4)\n",
            "memory usage: 173.3+ MB\n"
          ],
          "name": "stdout"
        }
      ]
    },
    {
      "cell_type": "code",
      "metadata": {
        "id": "OCVt4J7Kel1r",
        "colab": {
          "base_uri": "https://localhost:8080/",
          "height": 359
        },
        "outputId": "7cb3123b-a74a-42a5-a3a9-b553f78031df"
      },
      "source": [
        "cast.head(10)"
      ],
      "execution_count": 9,
      "outputs": [
        {
          "output_type": "execute_result",
          "data": {
            "text/html": [
              "<div>\n",
              "<style scoped>\n",
              "    .dataframe tbody tr th:only-of-type {\n",
              "        vertical-align: middle;\n",
              "    }\n",
              "\n",
              "    .dataframe tbody tr th {\n",
              "        vertical-align: top;\n",
              "    }\n",
              "\n",
              "    .dataframe thead th {\n",
              "        text-align: right;\n",
              "    }\n",
              "</style>\n",
              "<table border=\"1\" class=\"dataframe\">\n",
              "  <thead>\n",
              "    <tr style=\"text-align: right;\">\n",
              "      <th></th>\n",
              "      <th>title</th>\n",
              "      <th>year</th>\n",
              "      <th>name</th>\n",
              "      <th>type</th>\n",
              "      <th>character</th>\n",
              "      <th>n</th>\n",
              "    </tr>\n",
              "  </thead>\n",
              "  <tbody>\n",
              "    <tr>\n",
              "      <th>0</th>\n",
              "      <td>Closet Monster</td>\n",
              "      <td>2015</td>\n",
              "      <td>Buffy #1</td>\n",
              "      <td>actor</td>\n",
              "      <td>Buffy 4</td>\n",
              "      <td>31.0</td>\n",
              "    </tr>\n",
              "    <tr>\n",
              "      <th>1</th>\n",
              "      <td>Suuri illusioni</td>\n",
              "      <td>1985</td>\n",
              "      <td>Homo $</td>\n",
              "      <td>actor</td>\n",
              "      <td>Guests</td>\n",
              "      <td>22.0</td>\n",
              "    </tr>\n",
              "    <tr>\n",
              "      <th>2</th>\n",
              "      <td>Battle of the Sexes</td>\n",
              "      <td>2017</td>\n",
              "      <td>$hutter</td>\n",
              "      <td>actor</td>\n",
              "      <td>Bobby Riggs Fan</td>\n",
              "      <td>10.0</td>\n",
              "    </tr>\n",
              "    <tr>\n",
              "      <th>3</th>\n",
              "      <td>Secret in Their Eyes</td>\n",
              "      <td>2015</td>\n",
              "      <td>$hutter</td>\n",
              "      <td>actor</td>\n",
              "      <td>2002 Dodger Fan</td>\n",
              "      <td>NaN</td>\n",
              "    </tr>\n",
              "    <tr>\n",
              "      <th>4</th>\n",
              "      <td>Steve Jobs</td>\n",
              "      <td>2015</td>\n",
              "      <td>$hutter</td>\n",
              "      <td>actor</td>\n",
              "      <td>1988 Opera House Patron</td>\n",
              "      <td>NaN</td>\n",
              "    </tr>\n",
              "    <tr>\n",
              "      <th>5</th>\n",
              "      <td>Straight Outta Compton</td>\n",
              "      <td>2015</td>\n",
              "      <td>$hutter</td>\n",
              "      <td>actor</td>\n",
              "      <td>Club Patron</td>\n",
              "      <td>NaN</td>\n",
              "    </tr>\n",
              "    <tr>\n",
              "      <th>6</th>\n",
              "      <td>Straight Outta Compton</td>\n",
              "      <td>2015</td>\n",
              "      <td>$hutter</td>\n",
              "      <td>actor</td>\n",
              "      <td>Dopeman</td>\n",
              "      <td>NaN</td>\n",
              "    </tr>\n",
              "    <tr>\n",
              "      <th>7</th>\n",
              "      <td>For Thy Love 2</td>\n",
              "      <td>2009</td>\n",
              "      <td>Bee Moe $lim</td>\n",
              "      <td>actor</td>\n",
              "      <td>Thug 1</td>\n",
              "      <td>NaN</td>\n",
              "    </tr>\n",
              "    <tr>\n",
              "      <th>8</th>\n",
              "      <td>Lapis, Ballpen at Diploma, a True to Life Journey</td>\n",
              "      <td>2014</td>\n",
              "      <td>Jori ' Danilo' Jurado Jr.</td>\n",
              "      <td>actor</td>\n",
              "      <td>Jaime (young)</td>\n",
              "      <td>9.0</td>\n",
              "    </tr>\n",
              "    <tr>\n",
              "      <th>9</th>\n",
              "      <td>Desire (III)</td>\n",
              "      <td>2014</td>\n",
              "      <td>Syaiful 'Ariffin</td>\n",
              "      <td>actor</td>\n",
              "      <td>Actor Playing Eteocles from 'Antigone'</td>\n",
              "      <td>NaN</td>\n",
              "    </tr>\n",
              "  </tbody>\n",
              "</table>\n",
              "</div>"
            ],
            "text/plain": [
              "                                               title  ...     n\n",
              "0                                     Closet Monster  ...  31.0\n",
              "1                                    Suuri illusioni  ...  22.0\n",
              "2                                Battle of the Sexes  ...  10.0\n",
              "3                               Secret in Their Eyes  ...   NaN\n",
              "4                                         Steve Jobs  ...   NaN\n",
              "5                             Straight Outta Compton  ...   NaN\n",
              "6                             Straight Outta Compton  ...   NaN\n",
              "7                                     For Thy Love 2  ...   NaN\n",
              "8  Lapis, Ballpen at Diploma, a True to Life Journey  ...   9.0\n",
              "9                                       Desire (III)  ...   NaN\n",
              "\n",
              "[10 rows x 6 columns]"
            ]
          },
          "metadata": {
            "tags": []
          },
          "execution_count": 9
        }
      ]
    },
    {
      "cell_type": "markdown",
      "metadata": {
        "id": "BNceaYoxel1r"
      },
      "source": [
        "## Taking a look at the Release dataset\n",
        "\n",
        "This data shows details of when each movie was release in each country with the release date"
      ]
    },
    {
      "cell_type": "code",
      "metadata": {
        "id": "D8bIPei9el1r",
        "colab": {
          "base_uri": "https://localhost:8080/"
        },
        "outputId": "7c9cc771-1db2-42ed-da05-677765c60d64"
      },
      "source": [
        "release_dates = pd.read_csv('/content/drive/MyDrive/UCSD_MLE/Projects/mec-5.3.10-data-wranging-with-pandas-mini-project/release_dates.csv', parse_dates=['date'], infer_datetime_format=True)\n",
        "release_dates.info()"
      ],
      "execution_count": 10,
      "outputs": [
        {
          "output_type": "stream",
          "text": [
            "<class 'pandas.core.frame.DataFrame'>\n",
            "RangeIndex: 479488 entries, 0 to 479487\n",
            "Data columns (total 4 columns):\n",
            " #   Column   Non-Null Count   Dtype         \n",
            "---  ------   --------------   -----         \n",
            " 0   title    479488 non-null  object        \n",
            " 1   year     479488 non-null  int64         \n",
            " 2   country  479488 non-null  object        \n",
            " 3   date     479488 non-null  datetime64[ns]\n",
            "dtypes: datetime64[ns](1), int64(1), object(2)\n",
            "memory usage: 14.6+ MB\n"
          ],
          "name": "stdout"
        }
      ]
    },
    {
      "cell_type": "code",
      "metadata": {
        "id": "co6FAxMmel1r",
        "colab": {
          "base_uri": "https://localhost:8080/",
          "height": 204
        },
        "outputId": "7fcd027b-aab4-4d0d-c4d5-1d5b6cdbcb9b"
      },
      "source": [
        "release_dates.head()"
      ],
      "execution_count": 11,
      "outputs": [
        {
          "output_type": "execute_result",
          "data": {
            "text/html": [
              "<div>\n",
              "<style scoped>\n",
              "    .dataframe tbody tr th:only-of-type {\n",
              "        vertical-align: middle;\n",
              "    }\n",
              "\n",
              "    .dataframe tbody tr th {\n",
              "        vertical-align: top;\n",
              "    }\n",
              "\n",
              "    .dataframe thead th {\n",
              "        text-align: right;\n",
              "    }\n",
              "</style>\n",
              "<table border=\"1\" class=\"dataframe\">\n",
              "  <thead>\n",
              "    <tr style=\"text-align: right;\">\n",
              "      <th></th>\n",
              "      <th>title</th>\n",
              "      <th>year</th>\n",
              "      <th>country</th>\n",
              "      <th>date</th>\n",
              "    </tr>\n",
              "  </thead>\n",
              "  <tbody>\n",
              "    <tr>\n",
              "      <th>0</th>\n",
              "      <td>#73, Shaanthi Nivaasa</td>\n",
              "      <td>2007</td>\n",
              "      <td>India</td>\n",
              "      <td>2007-06-15</td>\n",
              "    </tr>\n",
              "    <tr>\n",
              "      <th>1</th>\n",
              "      <td>#BKKY</td>\n",
              "      <td>2016</td>\n",
              "      <td>Cambodia</td>\n",
              "      <td>2017-10-12</td>\n",
              "    </tr>\n",
              "    <tr>\n",
              "      <th>2</th>\n",
              "      <td>#Beings</td>\n",
              "      <td>2015</td>\n",
              "      <td>Romania</td>\n",
              "      <td>2015-01-29</td>\n",
              "    </tr>\n",
              "    <tr>\n",
              "      <th>3</th>\n",
              "      <td>#Captured</td>\n",
              "      <td>2017</td>\n",
              "      <td>USA</td>\n",
              "      <td>2017-09-05</td>\n",
              "    </tr>\n",
              "    <tr>\n",
              "      <th>4</th>\n",
              "      <td>#Ewankosau saranghaeyo</td>\n",
              "      <td>2015</td>\n",
              "      <td>Philippines</td>\n",
              "      <td>2015-01-21</td>\n",
              "    </tr>\n",
              "  </tbody>\n",
              "</table>\n",
              "</div>"
            ],
            "text/plain": [
              "                    title  year      country       date\n",
              "0   #73, Shaanthi Nivaasa  2007        India 2007-06-15\n",
              "1                   #BKKY  2016     Cambodia 2017-10-12\n",
              "2                 #Beings  2015      Romania 2015-01-29\n",
              "3               #Captured  2017          USA 2017-09-05\n",
              "4  #Ewankosau saranghaeyo  2015  Philippines 2015-01-21"
            ]
          },
          "metadata": {
            "tags": []
          },
          "execution_count": 11
        }
      ]
    },
    {
      "cell_type": "markdown",
      "metadata": {
        "id": "ubZYmfMlel1s"
      },
      "source": [
        "# Section I - Basic Querying, Filtering and Transformations"
      ]
    },
    {
      "cell_type": "markdown",
      "metadata": {
        "id": "--IOO27-el1s"
      },
      "source": [
        "### What is the total number of movies?"
      ]
    },
    {
      "cell_type": "code",
      "metadata": {
        "id": "-xthx8Mwel1s",
        "colab": {
          "base_uri": "https://localhost:8080/"
        },
        "outputId": "690ba7b9-6fc3-40e4-9dad-3b8c14841d24"
      },
      "source": [
        "len(movies)"
      ],
      "execution_count": 14,
      "outputs": [
        {
          "output_type": "execute_result",
          "data": {
            "text/plain": [
              "244914"
            ]
          },
          "metadata": {
            "tags": []
          },
          "execution_count": 14
        }
      ]
    },
    {
      "cell_type": "markdown",
      "metadata": {
        "id": "yzogpDnkel1s"
      },
      "source": [
        "### List all Batman movies ever made"
      ]
    },
    {
      "cell_type": "code",
      "metadata": {
        "id": "J2pdAouWel1s",
        "colab": {
          "base_uri": "https://localhost:8080/",
          "height": 128
        },
        "outputId": "36a13afa-8730-4fa1-fd76-4a096f117fb1"
      },
      "source": [
        "batman_df = movies[movies.title == 'Batman']\n",
        "print('Total Batman Movies:', len(batman_df))\n",
        "batman_df"
      ],
      "execution_count": 17,
      "outputs": [
        {
          "output_type": "stream",
          "text": [
            "Total Batman Movies: 2\n"
          ],
          "name": "stdout"
        },
        {
          "output_type": "execute_result",
          "data": {
            "text/html": [
              "<div>\n",
              "<style scoped>\n",
              "    .dataframe tbody tr th:only-of-type {\n",
              "        vertical-align: middle;\n",
              "    }\n",
              "\n",
              "    .dataframe tbody tr th {\n",
              "        vertical-align: top;\n",
              "    }\n",
              "\n",
              "    .dataframe thead th {\n",
              "        text-align: right;\n",
              "    }\n",
              "</style>\n",
              "<table border=\"1\" class=\"dataframe\">\n",
              "  <thead>\n",
              "    <tr style=\"text-align: right;\">\n",
              "      <th></th>\n",
              "      <th>title</th>\n",
              "      <th>year</th>\n",
              "    </tr>\n",
              "  </thead>\n",
              "  <tbody>\n",
              "    <tr>\n",
              "      <th>52734</th>\n",
              "      <td>Batman</td>\n",
              "      <td>1943</td>\n",
              "    </tr>\n",
              "    <tr>\n",
              "      <th>150621</th>\n",
              "      <td>Batman</td>\n",
              "      <td>1989</td>\n",
              "    </tr>\n",
              "  </tbody>\n",
              "</table>\n",
              "</div>"
            ],
            "text/plain": [
              "         title  year\n",
              "52734   Batman  1943\n",
              "150621  Batman  1989"
            ]
          },
          "metadata": {
            "tags": []
          },
          "execution_count": 17
        }
      ]
    },
    {
      "cell_type": "markdown",
      "metadata": {
        "id": "g6eud57Lel1t"
      },
      "source": [
        "### List all Batman movies ever made - the right approach"
      ]
    },
    {
      "cell_type": "code",
      "metadata": {
        "id": "SGG5oiU6el1t",
        "colab": {
          "base_uri": "https://localhost:8080/",
          "height": 376
        },
        "outputId": "5eefe138-480f-46b7-9b44-9ccdc9a81d61"
      },
      "source": [
        "batman_df = movies[movies.title.str.contains('Batman', case=False)]\n",
        "print('Total Batman Movies:', len(batman_df))\n",
        "batman_df.head(10)"
      ],
      "execution_count": 18,
      "outputs": [
        {
          "output_type": "stream",
          "text": [
            "Total Batman Movies: 35\n"
          ],
          "name": "stdout"
        },
        {
          "output_type": "execute_result",
          "data": {
            "text/html": [
              "<div>\n",
              "<style scoped>\n",
              "    .dataframe tbody tr th:only-of-type {\n",
              "        vertical-align: middle;\n",
              "    }\n",
              "\n",
              "    .dataframe tbody tr th {\n",
              "        vertical-align: top;\n",
              "    }\n",
              "\n",
              "    .dataframe thead th {\n",
              "        text-align: right;\n",
              "    }\n",
              "</style>\n",
              "<table border=\"1\" class=\"dataframe\">\n",
              "  <thead>\n",
              "    <tr style=\"text-align: right;\">\n",
              "      <th></th>\n",
              "      <th>title</th>\n",
              "      <th>year</th>\n",
              "    </tr>\n",
              "  </thead>\n",
              "  <tbody>\n",
              "    <tr>\n",
              "      <th>16813</th>\n",
              "      <td>Batman: Anarchy</td>\n",
              "      <td>2016</td>\n",
              "    </tr>\n",
              "    <tr>\n",
              "      <th>30236</th>\n",
              "      <td>Batman Forever</td>\n",
              "      <td>1995</td>\n",
              "    </tr>\n",
              "    <tr>\n",
              "      <th>31674</th>\n",
              "      <td>Batman Untold</td>\n",
              "      <td>2010</td>\n",
              "    </tr>\n",
              "    <tr>\n",
              "      <th>31711</th>\n",
              "      <td>Scooby-Doo &amp; Batman: the Brave and the Bold</td>\n",
              "      <td>2018</td>\n",
              "    </tr>\n",
              "    <tr>\n",
              "      <th>41881</th>\n",
              "      <td>Batman the Rise of Red Hood</td>\n",
              "      <td>2018</td>\n",
              "    </tr>\n",
              "    <tr>\n",
              "      <th>43484</th>\n",
              "      <td>Batman: Return of the Caped Crusaders</td>\n",
              "      <td>2016</td>\n",
              "    </tr>\n",
              "    <tr>\n",
              "      <th>46333</th>\n",
              "      <td>Batman &amp; Robin</td>\n",
              "      <td>1997</td>\n",
              "    </tr>\n",
              "    <tr>\n",
              "      <th>51811</th>\n",
              "      <td>Batman Revealed</td>\n",
              "      <td>2012</td>\n",
              "    </tr>\n",
              "    <tr>\n",
              "      <th>52734</th>\n",
              "      <td>Batman</td>\n",
              "      <td>1943</td>\n",
              "    </tr>\n",
              "    <tr>\n",
              "      <th>56029</th>\n",
              "      <td>Batman Beyond: Rising Knight</td>\n",
              "      <td>2014</td>\n",
              "    </tr>\n",
              "  </tbody>\n",
              "</table>\n",
              "</div>"
            ],
            "text/plain": [
              "                                             title  year\n",
              "16813                              Batman: Anarchy  2016\n",
              "30236                               Batman Forever  1995\n",
              "31674                                Batman Untold  2010\n",
              "31711  Scooby-Doo & Batman: the Brave and the Bold  2018\n",
              "41881                  Batman the Rise of Red Hood  2018\n",
              "43484        Batman: Return of the Caped Crusaders  2016\n",
              "46333                               Batman & Robin  1997\n",
              "51811                              Batman Revealed  2012\n",
              "52734                                       Batman  1943\n",
              "56029                 Batman Beyond: Rising Knight  2014"
            ]
          },
          "metadata": {
            "tags": []
          },
          "execution_count": 18
        }
      ]
    },
    {
      "cell_type": "markdown",
      "metadata": {
        "id": "9Ou4yeeael1t"
      },
      "source": [
        "### Display the top 15 Batman movies in the order they were released"
      ]
    },
    {
      "cell_type": "code",
      "metadata": {
        "id": "3x_WfK5cel1t",
        "colab": {
          "base_uri": "https://localhost:8080/",
          "height": 1000
        },
        "outputId": "3dcdb418-1f9a-4450-ad2b-9e44bb42841b"
      },
      "source": [
        "batman_df.sort_values(by=['year'], ascending=True).iloc[:100000000000]"
      ],
      "execution_count": 22,
      "outputs": [
        {
          "output_type": "execute_result",
          "data": {
            "text/html": [
              "<div>\n",
              "<style scoped>\n",
              "    .dataframe tbody tr th:only-of-type {\n",
              "        vertical-align: middle;\n",
              "    }\n",
              "\n",
              "    .dataframe tbody tr th {\n",
              "        vertical-align: top;\n",
              "    }\n",
              "\n",
              "    .dataframe thead th {\n",
              "        text-align: right;\n",
              "    }\n",
              "</style>\n",
              "<table border=\"1\" class=\"dataframe\">\n",
              "  <thead>\n",
              "    <tr style=\"text-align: right;\">\n",
              "      <th></th>\n",
              "      <th>title</th>\n",
              "      <th>year</th>\n",
              "    </tr>\n",
              "  </thead>\n",
              "  <tbody>\n",
              "    <tr>\n",
              "      <th>52734</th>\n",
              "      <td>Batman</td>\n",
              "      <td>1943</td>\n",
              "    </tr>\n",
              "    <tr>\n",
              "      <th>100056</th>\n",
              "      <td>Batman and Robin</td>\n",
              "      <td>1949</td>\n",
              "    </tr>\n",
              "    <tr>\n",
              "      <th>161439</th>\n",
              "      <td>Batman Dracula</td>\n",
              "      <td>1964</td>\n",
              "    </tr>\n",
              "    <tr>\n",
              "      <th>84327</th>\n",
              "      <td>Alyas Batman at Robin</td>\n",
              "      <td>1965</td>\n",
              "    </tr>\n",
              "    <tr>\n",
              "      <th>68364</th>\n",
              "      <td>James Batman</td>\n",
              "      <td>1966</td>\n",
              "    </tr>\n",
              "    <tr>\n",
              "      <th>161527</th>\n",
              "      <td>Batman: The Movie</td>\n",
              "      <td>1966</td>\n",
              "    </tr>\n",
              "    <tr>\n",
              "      <th>56159</th>\n",
              "      <td>Batman Fights Dracula</td>\n",
              "      <td>1967</td>\n",
              "    </tr>\n",
              "    <tr>\n",
              "      <th>168504</th>\n",
              "      <td>Fight! Batman, Fight!</td>\n",
              "      <td>1973</td>\n",
              "    </tr>\n",
              "    <tr>\n",
              "      <th>150621</th>\n",
              "      <td>Batman</td>\n",
              "      <td>1989</td>\n",
              "    </tr>\n",
              "    <tr>\n",
              "      <th>156239</th>\n",
              "      <td>Alyas Batman en Robin</td>\n",
              "      <td>1991</td>\n",
              "    </tr>\n",
              "    <tr>\n",
              "      <th>156755</th>\n",
              "      <td>Batman Returns</td>\n",
              "      <td>1992</td>\n",
              "    </tr>\n",
              "    <tr>\n",
              "      <th>63366</th>\n",
              "      <td>Batman: Mask of the Phantasm</td>\n",
              "      <td>1993</td>\n",
              "    </tr>\n",
              "    <tr>\n",
              "      <th>30236</th>\n",
              "      <td>Batman Forever</td>\n",
              "      <td>1995</td>\n",
              "    </tr>\n",
              "    <tr>\n",
              "      <th>46333</th>\n",
              "      <td>Batman &amp; Robin</td>\n",
              "      <td>1997</td>\n",
              "    </tr>\n",
              "    <tr>\n",
              "      <th>208220</th>\n",
              "      <td>Batman Begins</td>\n",
              "      <td>2005</td>\n",
              "    </tr>\n",
              "    <tr>\n",
              "      <th>31674</th>\n",
              "      <td>Batman Untold</td>\n",
              "      <td>2010</td>\n",
              "    </tr>\n",
              "    <tr>\n",
              "      <th>78469</th>\n",
              "      <td>Batman: The Final Victory</td>\n",
              "      <td>2010</td>\n",
              "    </tr>\n",
              "    <tr>\n",
              "      <th>116892</th>\n",
              "      <td>Batman Reboots</td>\n",
              "      <td>2010</td>\n",
              "    </tr>\n",
              "    <tr>\n",
              "      <th>51811</th>\n",
              "      <td>Batman Revealed</td>\n",
              "      <td>2012</td>\n",
              "    </tr>\n",
              "    <tr>\n",
              "      <th>56029</th>\n",
              "      <td>Batman Beyond: Rising Knight</td>\n",
              "      <td>2014</td>\n",
              "    </tr>\n",
              "    <tr>\n",
              "      <th>61569</th>\n",
              "      <td>Batman: Crusader</td>\n",
              "      <td>2014</td>\n",
              "    </tr>\n",
              "    <tr>\n",
              "      <th>206788</th>\n",
              "      <td>B@: It's a Wonderful Life, Batman!</td>\n",
              "      <td>2016</td>\n",
              "    </tr>\n",
              "    <tr>\n",
              "      <th>16813</th>\n",
              "      <td>Batman: Anarchy</td>\n",
              "      <td>2016</td>\n",
              "    </tr>\n",
              "    <tr>\n",
              "      <th>110458</th>\n",
              "      <td>B@ (Batman Parody Film)</td>\n",
              "      <td>2016</td>\n",
              "    </tr>\n",
              "    <tr>\n",
              "      <th>216651</th>\n",
              "      <td>Batman: The Killing Joke</td>\n",
              "      <td>2016</td>\n",
              "    </tr>\n",
              "    <tr>\n",
              "      <th>43484</th>\n",
              "      <td>Batman: Return of the Caped Crusaders</td>\n",
              "      <td>2016</td>\n",
              "    </tr>\n",
              "    <tr>\n",
              "      <th>241878</th>\n",
              "      <td>Batman v Superman: Dawn of Justice</td>\n",
              "      <td>2016</td>\n",
              "    </tr>\n",
              "    <tr>\n",
              "      <th>65209</th>\n",
              "      <td>Batman: Master of Fear</td>\n",
              "      <td>2017</td>\n",
              "    </tr>\n",
              "    <tr>\n",
              "      <th>179004</th>\n",
              "      <td>The LEGO Batman Movie</td>\n",
              "      <td>2017</td>\n",
              "    </tr>\n",
              "    <tr>\n",
              "      <th>179580</th>\n",
              "      <td>Batman the Dawn of the Knight</td>\n",
              "      <td>2017</td>\n",
              "    </tr>\n",
              "    <tr>\n",
              "      <th>99828</th>\n",
              "      <td>Batman Unveiled</td>\n",
              "      <td>2018</td>\n",
              "    </tr>\n",
              "    <tr>\n",
              "      <th>71103</th>\n",
              "      <td>Batman Ninja</td>\n",
              "      <td>2018</td>\n",
              "    </tr>\n",
              "    <tr>\n",
              "      <th>41881</th>\n",
              "      <td>Batman the Rise of Red Hood</td>\n",
              "      <td>2018</td>\n",
              "    </tr>\n",
              "    <tr>\n",
              "      <th>31711</th>\n",
              "      <td>Scooby-Doo &amp; Batman: the Brave and the Bold</td>\n",
              "      <td>2018</td>\n",
              "    </tr>\n",
              "    <tr>\n",
              "      <th>119009</th>\n",
              "      <td>Batman V Superman: League at War</td>\n",
              "      <td>2018</td>\n",
              "    </tr>\n",
              "  </tbody>\n",
              "</table>\n",
              "</div>"
            ],
            "text/plain": [
              "                                              title  year\n",
              "52734                                        Batman  1943\n",
              "100056                             Batman and Robin  1949\n",
              "161439                               Batman Dracula  1964\n",
              "84327                         Alyas Batman at Robin  1965\n",
              "68364                                  James Batman  1966\n",
              "161527                            Batman: The Movie  1966\n",
              "56159                         Batman Fights Dracula  1967\n",
              "168504                        Fight! Batman, Fight!  1973\n",
              "150621                                       Batman  1989\n",
              "156239                        Alyas Batman en Robin  1991\n",
              "156755                               Batman Returns  1992\n",
              "63366                  Batman: Mask of the Phantasm  1993\n",
              "30236                                Batman Forever  1995\n",
              "46333                                Batman & Robin  1997\n",
              "208220                                Batman Begins  2005\n",
              "31674                                 Batman Untold  2010\n",
              "78469                     Batman: The Final Victory  2010\n",
              "116892                               Batman Reboots  2010\n",
              "51811                               Batman Revealed  2012\n",
              "56029                  Batman Beyond: Rising Knight  2014\n",
              "61569                              Batman: Crusader  2014\n",
              "206788           B@: It's a Wonderful Life, Batman!  2016\n",
              "16813                               Batman: Anarchy  2016\n",
              "110458                      B@ (Batman Parody Film)  2016\n",
              "216651                     Batman: The Killing Joke  2016\n",
              "43484         Batman: Return of the Caped Crusaders  2016\n",
              "241878           Batman v Superman: Dawn of Justice  2016\n",
              "65209                        Batman: Master of Fear  2017\n",
              "179004                        The LEGO Batman Movie  2017\n",
              "179580                Batman the Dawn of the Knight  2017\n",
              "99828                               Batman Unveiled  2018\n",
              "71103                                  Batman Ninja  2018\n",
              "41881                   Batman the Rise of Red Hood  2018\n",
              "31711   Scooby-Doo & Batman: the Brave and the Bold  2018\n",
              "119009             Batman V Superman: League at War  2018"
            ]
          },
          "metadata": {
            "tags": []
          },
          "execution_count": 22
        }
      ]
    },
    {
      "cell_type": "markdown",
      "metadata": {
        "id": "aRNodZJkel1t"
      },
      "source": [
        "### Section I - Q1 : List all the 'Harry Potter' movies from the most recent to the earliest"
      ]
    },
    {
      "cell_type": "code",
      "metadata": {
        "id": "qgxhKkazel1t",
        "colab": {
          "base_uri": "https://localhost:8080/",
          "height": 297
        },
        "outputId": "9e346eb9-52ae-4b6e-a05d-d0863db63ecd"
      },
      "source": [
        "hp_df = movies[movies.title.str.contains('Harry Potter', case=False)]\n",
        "hp_df.sort_values(by=['year'], ascending=True).iloc[:]"
      ],
      "execution_count": 23,
      "outputs": [
        {
          "output_type": "execute_result",
          "data": {
            "text/html": [
              "<div>\n",
              "<style scoped>\n",
              "    .dataframe tbody tr th:only-of-type {\n",
              "        vertical-align: middle;\n",
              "    }\n",
              "\n",
              "    .dataframe tbody tr th {\n",
              "        vertical-align: top;\n",
              "    }\n",
              "\n",
              "    .dataframe thead th {\n",
              "        text-align: right;\n",
              "    }\n",
              "</style>\n",
              "<table border=\"1\" class=\"dataframe\">\n",
              "  <thead>\n",
              "    <tr style=\"text-align: right;\">\n",
              "      <th></th>\n",
              "      <th>title</th>\n",
              "      <th>year</th>\n",
              "    </tr>\n",
              "  </thead>\n",
              "  <tbody>\n",
              "    <tr>\n",
              "      <th>223087</th>\n",
              "      <td>Harry Potter and the Sorcerer's Stone</td>\n",
              "      <td>2001</td>\n",
              "    </tr>\n",
              "    <tr>\n",
              "      <th>82791</th>\n",
              "      <td>Harry Potter and the Chamber of Secrets</td>\n",
              "      <td>2002</td>\n",
              "    </tr>\n",
              "    <tr>\n",
              "      <th>61957</th>\n",
              "      <td>Harry Potter and the Prisoner of Azkaban</td>\n",
              "      <td>2004</td>\n",
              "    </tr>\n",
              "    <tr>\n",
              "      <th>187926</th>\n",
              "      <td>Harry Potter and the Goblet of Fire</td>\n",
              "      <td>2005</td>\n",
              "    </tr>\n",
              "    <tr>\n",
              "      <th>50581</th>\n",
              "      <td>Harry Potter and the Order of the Phoenix</td>\n",
              "      <td>2007</td>\n",
              "    </tr>\n",
              "    <tr>\n",
              "      <th>109213</th>\n",
              "      <td>Harry Potter and the Half-Blood Prince</td>\n",
              "      <td>2009</td>\n",
              "    </tr>\n",
              "    <tr>\n",
              "      <th>152831</th>\n",
              "      <td>Harry Potter and the Deathly Hallows: Part 1</td>\n",
              "      <td>2010</td>\n",
              "    </tr>\n",
              "    <tr>\n",
              "      <th>143147</th>\n",
              "      <td>Harry Potter and the Deathly Hallows: Part 2</td>\n",
              "      <td>2011</td>\n",
              "    </tr>\n",
              "  </tbody>\n",
              "</table>\n",
              "</div>"
            ],
            "text/plain": [
              "                                               title  year\n",
              "223087         Harry Potter and the Sorcerer's Stone  2001\n",
              "82791        Harry Potter and the Chamber of Secrets  2002\n",
              "61957       Harry Potter and the Prisoner of Azkaban  2004\n",
              "187926           Harry Potter and the Goblet of Fire  2005\n",
              "50581      Harry Potter and the Order of the Phoenix  2007\n",
              "109213        Harry Potter and the Half-Blood Prince  2009\n",
              "152831  Harry Potter and the Deathly Hallows: Part 1  2010\n",
              "143147  Harry Potter and the Deathly Hallows: Part 2  2011"
            ]
          },
          "metadata": {
            "tags": []
          },
          "execution_count": 23
        }
      ]
    },
    {
      "cell_type": "markdown",
      "metadata": {
        "id": "1Z6NDFkQel1t"
      },
      "source": [
        "### How many movies were made in the year 2017?"
      ]
    },
    {
      "cell_type": "code",
      "metadata": {
        "id": "SLi4Gj_4el1u",
        "colab": {
          "base_uri": "https://localhost:8080/"
        },
        "outputId": "1b110b58-817b-4ab0-e3b9-16c32e714394"
      },
      "source": [
        "len(movies[movies.year == 2017])"
      ],
      "execution_count": 25,
      "outputs": [
        {
          "output_type": "execute_result",
          "data": {
            "text/plain": [
              "11474"
            ]
          },
          "metadata": {
            "tags": []
          },
          "execution_count": 25
        }
      ]
    },
    {
      "cell_type": "markdown",
      "metadata": {
        "id": "99W36AZyel1u"
      },
      "source": [
        "### Section I - Q2 : How many movies were made in the year 2015?"
      ]
    },
    {
      "cell_type": "code",
      "metadata": {
        "id": "DnTQjqRrel1u",
        "colab": {
          "base_uri": "https://localhost:8080/"
        },
        "outputId": "5edd6c60-0ae8-4d2a-9b88-d9e1650bf29f"
      },
      "source": [
        "len(movies[movies.year == 2015])"
      ],
      "execution_count": 26,
      "outputs": [
        {
          "output_type": "execute_result",
          "data": {
            "text/plain": [
              "8702"
            ]
          },
          "metadata": {
            "tags": []
          },
          "execution_count": 26
        }
      ]
    },
    {
      "cell_type": "markdown",
      "metadata": {
        "id": "_laMtGv9el1u"
      },
      "source": [
        "### Section I - Q3 : How many movies were made from 2000 till 2018?\n",
        "- You can chain multiple conditions using OR (`|`) as well as AND (`&`) depending on the condition"
      ]
    },
    {
      "cell_type": "code",
      "metadata": {
        "id": "cYFM1EwXel1u",
        "colab": {
          "base_uri": "https://localhost:8080/"
        },
        "outputId": "9014d2c6-3f51-45b7-9528-ed68ba83a64d"
      },
      "source": [
        "len(movies[(movies.year >= 2000) & (movies.year <= 2018)])"
      ],
      "execution_count": 31,
      "outputs": [
        {
          "output_type": "execute_result",
          "data": {
            "text/plain": [
              "114070"
            ]
          },
          "metadata": {
            "tags": []
          },
          "execution_count": 31
        }
      ]
    },
    {
      "cell_type": "markdown",
      "metadata": {
        "id": "HRJyqWzJel1u"
      },
      "source": [
        "### Section I - Q4: How many movies are titled \"Hamlet\"?"
      ]
    },
    {
      "cell_type": "code",
      "metadata": {
        "id": "RUOoQ_qiel1u",
        "colab": {
          "base_uri": "https://localhost:8080/"
        },
        "outputId": "1997eace-3838-4aea-ed89-bcae117f2c76"
      },
      "source": [
        "len(movies[movies.title.str.contains('Hamlet', case=False)])"
      ],
      "execution_count": 32,
      "outputs": [
        {
          "output_type": "execute_result",
          "data": {
            "text/plain": [
              "57"
            ]
          },
          "metadata": {
            "tags": []
          },
          "execution_count": 32
        }
      ]
    },
    {
      "cell_type": "markdown",
      "metadata": {
        "id": "O_8zzbTJel1u"
      },
      "source": [
        "### Section I - Q5: List all movies titled \"Hamlet\" \n",
        "- The movies should only have been released on or after the year 2000\n",
        "- Display the movies based on the year they were released (earliest to most recent)"
      ]
    },
    {
      "cell_type": "code",
      "metadata": {
        "id": "Nc_VaEfiel1v",
        "colab": {
          "base_uri": "https://localhost:8080/",
          "height": 1000
        },
        "outputId": "1e5046d3-aa7e-47bc-dc7d-d8ed13c70664"
      },
      "source": [
        "hamlet_df = movies[(movies.title.str.contains('Hamlet', case=False)) & (movies.year >= 2000)]\n",
        "hamlet_df.sort_values(by=['year'], ascending=True).iloc[:]\n",
        "\n"
      ],
      "execution_count": 46,
      "outputs": [
        {
          "output_type": "execute_result",
          "data": {
            "text/html": [
              "<div>\n",
              "<style scoped>\n",
              "    .dataframe tbody tr th:only-of-type {\n",
              "        vertical-align: middle;\n",
              "    }\n",
              "\n",
              "    .dataframe tbody tr th {\n",
              "        vertical-align: top;\n",
              "    }\n",
              "\n",
              "    .dataframe thead th {\n",
              "        text-align: right;\n",
              "    }\n",
              "</style>\n",
              "<table border=\"1\" class=\"dataframe\">\n",
              "  <thead>\n",
              "    <tr style=\"text-align: right;\">\n",
              "      <th></th>\n",
              "      <th>title</th>\n",
              "      <th>year</th>\n",
              "    </tr>\n",
              "  </thead>\n",
              "  <tbody>\n",
              "    <tr>\n",
              "      <th>55639</th>\n",
              "      <td>Hamlet</td>\n",
              "      <td>2000</td>\n",
              "    </tr>\n",
              "    <tr>\n",
              "      <th>55525</th>\n",
              "      <td>Hamlet in the Hamptons</td>\n",
              "      <td>2002</td>\n",
              "    </tr>\n",
              "    <tr>\n",
              "      <th>137905</th>\n",
              "      <td>Hamlet_X</td>\n",
              "      <td>2003</td>\n",
              "    </tr>\n",
              "    <tr>\n",
              "      <th>218468</th>\n",
              "      <td>Hamlet X</td>\n",
              "      <td>2004</td>\n",
              "    </tr>\n",
              "    <tr>\n",
              "      <th>40045</th>\n",
              "      <td>Hamlet (II)</td>\n",
              "      <td>2005</td>\n",
              "    </tr>\n",
              "    <tr>\n",
              "      <th>152920</th>\n",
              "      <td>Dogg's Hamlet, Cahoot's Macbeth</td>\n",
              "      <td>2005</td>\n",
              "    </tr>\n",
              "    <tr>\n",
              "      <th>200246</th>\n",
              "      <td>The Tragedy of Hamlet Prince of Denmark</td>\n",
              "      <td>2007</td>\n",
              "    </tr>\n",
              "    <tr>\n",
              "      <th>176528</th>\n",
              "      <td>Hamlet (II)</td>\n",
              "      <td>2007</td>\n",
              "    </tr>\n",
              "    <tr>\n",
              "      <th>156899</th>\n",
              "      <td>Hamlet (III)</td>\n",
              "      <td>2007</td>\n",
              "    </tr>\n",
              "    <tr>\n",
              "      <th>52408</th>\n",
              "      <td>Hamlet the Vampire Slayer</td>\n",
              "      <td>2008</td>\n",
              "    </tr>\n",
              "    <tr>\n",
              "      <th>141237</th>\n",
              "      <td>Hamlet 2</td>\n",
              "      <td>2008</td>\n",
              "    </tr>\n",
              "    <tr>\n",
              "      <th>191734</th>\n",
              "      <td>Kitchen Hamlet</td>\n",
              "      <td>2009</td>\n",
              "    </tr>\n",
              "    <tr>\n",
              "      <th>1931</th>\n",
              "      <td>Hamlet</td>\n",
              "      <td>2009</td>\n",
              "    </tr>\n",
              "    <tr>\n",
              "      <th>227953</th>\n",
              "      <td>Hamlet</td>\n",
              "      <td>2011</td>\n",
              "    </tr>\n",
              "    <tr>\n",
              "      <th>220674</th>\n",
              "      <td>Hamlet Demonstration</td>\n",
              "      <td>2011</td>\n",
              "    </tr>\n",
              "    <tr>\n",
              "      <th>51236</th>\n",
              "      <td>Hamlet Unbound</td>\n",
              "      <td>2012</td>\n",
              "    </tr>\n",
              "    <tr>\n",
              "      <th>17833</th>\n",
              "      <td>Zombie Hamlet</td>\n",
              "      <td>2012</td>\n",
              "    </tr>\n",
              "    <tr>\n",
              "      <th>186136</th>\n",
              "      <td>Harry, Hamlet and I</td>\n",
              "      <td>2013</td>\n",
              "    </tr>\n",
              "    <tr>\n",
              "      <th>178290</th>\n",
              "      <td>Hamlet</td>\n",
              "      <td>2014</td>\n",
              "    </tr>\n",
              "    <tr>\n",
              "      <th>10364</th>\n",
              "      <td>Hamlet A.D.D.</td>\n",
              "      <td>2014</td>\n",
              "    </tr>\n",
              "    <tr>\n",
              "      <th>186137</th>\n",
              "      <td>Hamlet</td>\n",
              "      <td>2015</td>\n",
              "    </tr>\n",
              "    <tr>\n",
              "      <th>133802</th>\n",
              "      <td>National Theatre Live: Hamlet</td>\n",
              "      <td>2015</td>\n",
              "    </tr>\n",
              "    <tr>\n",
              "      <th>44571</th>\n",
              "      <td>Hamlet (II)</td>\n",
              "      <td>2015</td>\n",
              "    </tr>\n",
              "    <tr>\n",
              "      <th>17531</th>\n",
              "      <td>Hamlet's Ghost</td>\n",
              "      <td>2015</td>\n",
              "    </tr>\n",
              "    <tr>\n",
              "      <th>209533</th>\n",
              "      <td>Hamlet, Son of a Kingpin</td>\n",
              "      <td>2015</td>\n",
              "    </tr>\n",
              "    <tr>\n",
              "      <th>70547</th>\n",
              "      <td>Royal Shakespeare Company: Hamlet</td>\n",
              "      <td>2016</td>\n",
              "    </tr>\n",
              "    <tr>\n",
              "      <th>191940</th>\n",
              "      <td>Hamlet</td>\n",
              "      <td>2016</td>\n",
              "    </tr>\n",
              "    <tr>\n",
              "      <th>98329</th>\n",
              "      <td>Hamlet (II)</td>\n",
              "      <td>2017</td>\n",
              "    </tr>\n",
              "    <tr>\n",
              "      <th>50271</th>\n",
              "      <td>Hamlet/Horatio</td>\n",
              "      <td>2017</td>\n",
              "    </tr>\n",
              "    <tr>\n",
              "      <th>240089</th>\n",
              "      <td>Hamlet in the Golden Vale</td>\n",
              "      <td>2017</td>\n",
              "    </tr>\n",
              "    <tr>\n",
              "      <th>244747</th>\n",
              "      <td>Hamlet</td>\n",
              "      <td>2017</td>\n",
              "    </tr>\n",
              "    <tr>\n",
              "      <th>78217</th>\n",
              "      <td>Hamlet: The Fall of a Sparrow</td>\n",
              "      <td>2018</td>\n",
              "    </tr>\n",
              "  </tbody>\n",
              "</table>\n",
              "</div>"
            ],
            "text/plain": [
              "                                          title  year\n",
              "55639                                    Hamlet  2000\n",
              "55525                    Hamlet in the Hamptons  2002\n",
              "137905                                 Hamlet_X  2003\n",
              "218468                                 Hamlet X  2004\n",
              "40045                               Hamlet (II)  2005\n",
              "152920          Dogg's Hamlet, Cahoot's Macbeth  2005\n",
              "200246  The Tragedy of Hamlet Prince of Denmark  2007\n",
              "176528                              Hamlet (II)  2007\n",
              "156899                             Hamlet (III)  2007\n",
              "52408                 Hamlet the Vampire Slayer  2008\n",
              "141237                                 Hamlet 2  2008\n",
              "191734                           Kitchen Hamlet  2009\n",
              "1931                                     Hamlet  2009\n",
              "227953                                   Hamlet  2011\n",
              "220674                     Hamlet Demonstration  2011\n",
              "51236                            Hamlet Unbound  2012\n",
              "17833                             Zombie Hamlet  2012\n",
              "186136                      Harry, Hamlet and I  2013\n",
              "178290                                   Hamlet  2014\n",
              "10364                             Hamlet A.D.D.  2014\n",
              "186137                                   Hamlet  2015\n",
              "133802            National Theatre Live: Hamlet  2015\n",
              "44571                               Hamlet (II)  2015\n",
              "17531                            Hamlet's Ghost  2015\n",
              "209533                 Hamlet, Son of a Kingpin  2015\n",
              "70547         Royal Shakespeare Company: Hamlet  2016\n",
              "191940                                   Hamlet  2016\n",
              "98329                               Hamlet (II)  2017\n",
              "50271                            Hamlet/Horatio  2017\n",
              "240089                Hamlet in the Golden Vale  2017\n",
              "244747                                   Hamlet  2017\n",
              "78217             Hamlet: The Fall of a Sparrow  2018"
            ]
          },
          "metadata": {
            "tags": []
          },
          "execution_count": 46
        }
      ]
    },
    {
      "cell_type": "markdown",
      "metadata": {
        "id": "xdHNSM4iel1v"
      },
      "source": [
        "### Section I - Q6: How many roles in the movie \"Inception\" are of the supporting cast (extra credits)\n",
        "- supporting cast are NOT ranked by an \"n\" value (NaN)\n",
        "- check for how to filter based on nulls"
      ]
    },
    {
      "cell_type": "code",
      "metadata": {
        "id": "3JM0N1Y5el1v"
      },
      "source": [
        ""
      ],
      "execution_count": null,
      "outputs": []
    },
    {
      "cell_type": "markdown",
      "metadata": {
        "id": "9nHJaXWael1v"
      },
      "source": [
        "### Section I - Q7: How many roles in the movie \"Inception\" are of the main cast\n",
        "- main cast always have an 'n' value"
      ]
    },
    {
      "cell_type": "code",
      "metadata": {
        "id": "0-m9bJgAel1v",
        "colab": {
          "base_uri": "https://localhost:8080/"
        },
        "outputId": "9bc8e365-860b-4d25-b225-f228eabfdd8a"
      },
      "source": [
        "inc_df = cast[(cast.title == \"Inception\") & (cast.n.isnull())]\n",
        "len(inc_df)\n",
        "\n",
        "\n"
      ],
      "execution_count": 67,
      "outputs": [
        {
          "output_type": "execute_result",
          "data": {
            "text/plain": [
              "27"
            ]
          },
          "metadata": {
            "tags": []
          },
          "execution_count": 67
        }
      ]
    },
    {
      "cell_type": "markdown",
      "metadata": {
        "id": "nXXknyb_el1v"
      },
      "source": [
        "### Section I - Q8: Show the top ten cast (actors\\actresses) in the movie \"Inception\" \n",
        "- main cast always have an 'n' value\n",
        "- remember to sort!"
      ]
    },
    {
      "cell_type": "code",
      "metadata": {
        "id": "FtOyo0Crel1v",
        "colab": {
          "base_uri": "https://localhost:8080/",
          "height": 1000
        },
        "outputId": "11208882-13e8-4adb-82ed-ed7b1d2a7386"
      },
      "source": [
        "inc_df = cast[(cast.title == \"Inception\") & ~(cast.n.isnull())]\n",
        "inc_df.sort_values(by='n', ascending=True, inplace=True)\n",
        "inc_df"
      ],
      "execution_count": 74,
      "outputs": [
        {
          "output_type": "stream",
          "text": [
            "/usr/local/lib/python3.7/dist-packages/ipykernel_launcher.py:2: SettingWithCopyWarning: \n",
            "A value is trying to be set on a copy of a slice from a DataFrame\n",
            "\n",
            "See the caveats in the documentation: https://pandas.pydata.org/pandas-docs/stable/user_guide/indexing.html#returning-a-view-versus-a-copy\n",
            "  \n"
          ],
          "name": "stderr"
        },
        {
          "output_type": "execute_result",
          "data": {
            "text/html": [
              "<div>\n",
              "<style scoped>\n",
              "    .dataframe tbody tr th:only-of-type {\n",
              "        vertical-align: middle;\n",
              "    }\n",
              "\n",
              "    .dataframe tbody tr th {\n",
              "        vertical-align: top;\n",
              "    }\n",
              "\n",
              "    .dataframe thead th {\n",
              "        text-align: right;\n",
              "    }\n",
              "</style>\n",
              "<table border=\"1\" class=\"dataframe\">\n",
              "  <thead>\n",
              "    <tr style=\"text-align: right;\">\n",
              "      <th></th>\n",
              "      <th>title</th>\n",
              "      <th>year</th>\n",
              "      <th>name</th>\n",
              "      <th>type</th>\n",
              "      <th>character</th>\n",
              "      <th>n</th>\n",
              "    </tr>\n",
              "  </thead>\n",
              "  <tbody>\n",
              "    <tr>\n",
              "      <th>590576</th>\n",
              "      <td>Inception</td>\n",
              "      <td>2010</td>\n",
              "      <td>Leonardo DiCaprio</td>\n",
              "      <td>actor</td>\n",
              "      <td>Cobb</td>\n",
              "      <td>1.0</td>\n",
              "    </tr>\n",
              "    <tr>\n",
              "      <th>859993</th>\n",
              "      <td>Inception</td>\n",
              "      <td>2010</td>\n",
              "      <td>Joseph Gordon-Levitt</td>\n",
              "      <td>actor</td>\n",
              "      <td>Arthur</td>\n",
              "      <td>2.0</td>\n",
              "    </tr>\n",
              "    <tr>\n",
              "      <th>3387147</th>\n",
              "      <td>Inception</td>\n",
              "      <td>2010</td>\n",
              "      <td>Ellen Page</td>\n",
              "      <td>actress</td>\n",
              "      <td>Ariadne</td>\n",
              "      <td>3.0</td>\n",
              "    </tr>\n",
              "    <tr>\n",
              "      <th>940923</th>\n",
              "      <td>Inception</td>\n",
              "      <td>2010</td>\n",
              "      <td>Tom Hardy</td>\n",
              "      <td>actor</td>\n",
              "      <td>Eames</td>\n",
              "      <td>4.0</td>\n",
              "    </tr>\n",
              "    <tr>\n",
              "      <th>2406531</th>\n",
              "      <td>Inception</td>\n",
              "      <td>2010</td>\n",
              "      <td>Ken Watanabe</td>\n",
              "      <td>actor</td>\n",
              "      <td>Saito</td>\n",
              "      <td>5.0</td>\n",
              "    </tr>\n",
              "    <tr>\n",
              "      <th>1876301</th>\n",
              "      <td>Inception</td>\n",
              "      <td>2010</td>\n",
              "      <td>Dileep Rao</td>\n",
              "      <td>actor</td>\n",
              "      <td>Yusuf</td>\n",
              "      <td>6.0</td>\n",
              "    </tr>\n",
              "    <tr>\n",
              "      <th>1615709</th>\n",
              "      <td>Inception</td>\n",
              "      <td>2010</td>\n",
              "      <td>Cillian Murphy</td>\n",
              "      <td>actor</td>\n",
              "      <td>Robert Fischer</td>\n",
              "      <td>7.0</td>\n",
              "    </tr>\n",
              "    <tr>\n",
              "      <th>183937</th>\n",
              "      <td>Inception</td>\n",
              "      <td>2010</td>\n",
              "      <td>Tom Berenger</td>\n",
              "      <td>actor</td>\n",
              "      <td>Browning</td>\n",
              "      <td>8.0</td>\n",
              "    </tr>\n",
              "    <tr>\n",
              "      <th>2765969</th>\n",
              "      <td>Inception</td>\n",
              "      <td>2010</td>\n",
              "      <td>Marion Cotillard</td>\n",
              "      <td>actress</td>\n",
              "      <td>Mal</td>\n",
              "      <td>9.0</td>\n",
              "    </tr>\n",
              "    <tr>\n",
              "      <th>1826027</th>\n",
              "      <td>Inception</td>\n",
              "      <td>2010</td>\n",
              "      <td>Pete Postlethwaite</td>\n",
              "      <td>actor</td>\n",
              "      <td>Maurice Fischer</td>\n",
              "      <td>10.0</td>\n",
              "    </tr>\n",
              "    <tr>\n",
              "      <th>326745</th>\n",
              "      <td>Inception</td>\n",
              "      <td>2010</td>\n",
              "      <td>Michael Caine</td>\n",
              "      <td>actor</td>\n",
              "      <td>Miles</td>\n",
              "      <td>11.0</td>\n",
              "    </tr>\n",
              "    <tr>\n",
              "      <th>910757</th>\n",
              "      <td>Inception</td>\n",
              "      <td>2010</td>\n",
              "      <td>Lukas Haas</td>\n",
              "      <td>actor</td>\n",
              "      <td>Nash</td>\n",
              "      <td>12.0</td>\n",
              "    </tr>\n",
              "    <tr>\n",
              "      <th>1309851</th>\n",
              "      <td>Inception</td>\n",
              "      <td>2010</td>\n",
              "      <td>Tai-Li Lee</td>\n",
              "      <td>actor</td>\n",
              "      <td>Tadashi</td>\n",
              "      <td>13.0</td>\n",
              "    </tr>\n",
              "    <tr>\n",
              "      <th>2932657</th>\n",
              "      <td>Inception</td>\n",
              "      <td>2010</td>\n",
              "      <td>Claire Geare</td>\n",
              "      <td>actress</td>\n",
              "      <td>Phillipa (3 years)</td>\n",
              "      <td>14.0</td>\n",
              "    </tr>\n",
              "    <tr>\n",
              "      <th>1668790</th>\n",
              "      <td>Inception</td>\n",
              "      <td>2010</td>\n",
              "      <td>Magnus Nolan</td>\n",
              "      <td>actor</td>\n",
              "      <td>James (20 months)</td>\n",
              "      <td>15.0</td>\n",
              "    </tr>\n",
              "    <tr>\n",
              "      <th>2932664</th>\n",
              "      <td>Inception</td>\n",
              "      <td>2010</td>\n",
              "      <td>Taylor Geare</td>\n",
              "      <td>actress</td>\n",
              "      <td>Phillipa (5 years)</td>\n",
              "      <td>16.0</td>\n",
              "    </tr>\n",
              "    <tr>\n",
              "      <th>812135</th>\n",
              "      <td>Inception</td>\n",
              "      <td>2010</td>\n",
              "      <td>Johnathan Geare</td>\n",
              "      <td>actor</td>\n",
              "      <td>James (3 years)</td>\n",
              "      <td>17.0</td>\n",
              "    </tr>\n",
              "    <tr>\n",
              "      <th>1455534</th>\n",
              "      <td>Inception</td>\n",
              "      <td>2010</td>\n",
              "      <td>Tohoru Masamune</td>\n",
              "      <td>actor</td>\n",
              "      <td>Japanese Security Guard</td>\n",
              "      <td>18.0</td>\n",
              "    </tr>\n",
              "    <tr>\n",
              "      <th>1701902</th>\n",
              "      <td>Inception</td>\n",
              "      <td>2010</td>\n",
              "      <td>Yuji Okumoto</td>\n",
              "      <td>actor</td>\n",
              "      <td>Saito's Attendant</td>\n",
              "      <td>19.0</td>\n",
              "    </tr>\n",
              "    <tr>\n",
              "      <th>333415</th>\n",
              "      <td>Inception</td>\n",
              "      <td>2010</td>\n",
              "      <td>Earl Cameron</td>\n",
              "      <td>actor</td>\n",
              "      <td>Elderly Bald Man</td>\n",
              "      <td>20.0</td>\n",
              "    </tr>\n",
              "    <tr>\n",
              "      <th>967176</th>\n",
              "      <td>Inception</td>\n",
              "      <td>2010</td>\n",
              "      <td>Ryan Hayward</td>\n",
              "      <td>actor</td>\n",
              "      <td>Lawyer</td>\n",
              "      <td>21.0</td>\n",
              "    </tr>\n",
              "    <tr>\n",
              "      <th>3359825</th>\n",
              "      <td>Inception</td>\n",
              "      <td>2010</td>\n",
              "      <td>Miranda Nolan</td>\n",
              "      <td>actress</td>\n",
              "      <td>Flight Attendant</td>\n",
              "      <td>22.0</td>\n",
              "    </tr>\n",
              "    <tr>\n",
              "      <th>709436</th>\n",
              "      <td>Inception</td>\n",
              "      <td>2010</td>\n",
              "      <td>Russ Fega</td>\n",
              "      <td>actor</td>\n",
              "      <td>Cab Driver</td>\n",
              "      <td>23.0</td>\n",
              "    </tr>\n",
              "    <tr>\n",
              "      <th>1170785</th>\n",
              "      <td>Inception</td>\n",
              "      <td>2010</td>\n",
              "      <td>Tim Kelleher</td>\n",
              "      <td>actor</td>\n",
              "      <td>Thin Man</td>\n",
              "      <td>24.0</td>\n",
              "    </tr>\n",
              "    <tr>\n",
              "      <th>3480170</th>\n",
              "      <td>Inception</td>\n",
              "      <td>2010</td>\n",
              "      <td>Talulah Riley</td>\n",
              "      <td>actress</td>\n",
              "      <td>Blonde</td>\n",
              "      <td>25.0</td>\n",
              "    </tr>\n",
              "    <tr>\n",
              "      <th>433867</th>\n",
              "      <td>Inception</td>\n",
              "      <td>2010</td>\n",
              "      <td>Nicolas Clerc</td>\n",
              "      <td>actor</td>\n",
              "      <td>Bridge Sub Con</td>\n",
              "      <td>26.0</td>\n",
              "    </tr>\n",
              "    <tr>\n",
              "      <th>2807441</th>\n",
              "      <td>Inception</td>\n",
              "      <td>2010</td>\n",
              "      <td>Coralie Dedykere</td>\n",
              "      <td>actress</td>\n",
              "      <td>Bridge Sub Con</td>\n",
              "      <td>27.0</td>\n",
              "    </tr>\n",
              "    <tr>\n",
              "      <th>3151982</th>\n",
              "      <td>Inception</td>\n",
              "      <td>2010</td>\n",
              "      <td>Silvie Laguna</td>\n",
              "      <td>actress</td>\n",
              "      <td>Bridge Sub Con</td>\n",
              "      <td>28.0</td>\n",
              "    </tr>\n",
              "    <tr>\n",
              "      <th>260128</th>\n",
              "      <td>Inception</td>\n",
              "      <td>2010</td>\n",
              "      <td>Virgile Bramly</td>\n",
              "      <td>actor</td>\n",
              "      <td>Bridge Sub Con</td>\n",
              "      <td>29.0</td>\n",
              "    </tr>\n",
              "    <tr>\n",
              "      <th>517227</th>\n",
              "      <td>Inception</td>\n",
              "      <td>2010</td>\n",
              "      <td>Jean-Michel Dagory</td>\n",
              "      <td>actor</td>\n",
              "      <td>Bridge Sub Con</td>\n",
              "      <td>30.0</td>\n",
              "    </tr>\n",
              "    <tr>\n",
              "      <th>2776554</th>\n",
              "      <td>Inception</td>\n",
              "      <td>2010</td>\n",
              "      <td>Helena Cullinan</td>\n",
              "      <td>actress</td>\n",
              "      <td>Penrose Sub Con</td>\n",
              "      <td>31.0</td>\n",
              "    </tr>\n",
              "    <tr>\n",
              "      <th>737322</th>\n",
              "      <td>Inception</td>\n",
              "      <td>2010</td>\n",
              "      <td>Mark Fleischmann</td>\n",
              "      <td>actor</td>\n",
              "      <td>Penrose Sub Con</td>\n",
              "      <td>32.0</td>\n",
              "    </tr>\n",
              "    <tr>\n",
              "      <th>3158892</th>\n",
              "      <td>Inception</td>\n",
              "      <td>2010</td>\n",
              "      <td>Shelley Lang</td>\n",
              "      <td>actress</td>\n",
              "      <td>Penrose Sub Con</td>\n",
              "      <td>33.0</td>\n",
              "    </tr>\n",
              "    <tr>\n",
              "      <th>444385</th>\n",
              "      <td>Inception</td>\n",
              "      <td>2010</td>\n",
              "      <td>Adam (IV) Cole</td>\n",
              "      <td>actor</td>\n",
              "      <td>Bar Sub Con</td>\n",
              "      <td>34.0</td>\n",
              "    </tr>\n",
              "    <tr>\n",
              "      <th>1618527</th>\n",
              "      <td>Inception</td>\n",
              "      <td>2010</td>\n",
              "      <td>Jack (III) Murray</td>\n",
              "      <td>actor</td>\n",
              "      <td>Bar Sub Con</td>\n",
              "      <td>35.0</td>\n",
              "    </tr>\n",
              "    <tr>\n",
              "      <th>2267383</th>\n",
              "      <td>Inception</td>\n",
              "      <td>2010</td>\n",
              "      <td>Kraig Thornber</td>\n",
              "      <td>actor</td>\n",
              "      <td>Bar Sub Con</td>\n",
              "      <td>36.0</td>\n",
              "    </tr>\n",
              "    <tr>\n",
              "      <th>3343512</th>\n",
              "      <td>Inception</td>\n",
              "      <td>2010</td>\n",
              "      <td>Angela Nathenson</td>\n",
              "      <td>actress</td>\n",
              "      <td>Bar Sub Con</td>\n",
              "      <td>37.0</td>\n",
              "    </tr>\n",
              "    <tr>\n",
              "      <th>2614557</th>\n",
              "      <td>Inception</td>\n",
              "      <td>2010</td>\n",
              "      <td>Natasha Beaumont</td>\n",
              "      <td>actress</td>\n",
              "      <td>Bar Sub Con</td>\n",
              "      <td>38.0</td>\n",
              "    </tr>\n",
              "    <tr>\n",
              "      <th>1861317</th>\n",
              "      <td>Inception</td>\n",
              "      <td>2010</td>\n",
              "      <td>Marc Raducci</td>\n",
              "      <td>actor</td>\n",
              "      <td>Lobby Sub Con</td>\n",
              "      <td>39.0</td>\n",
              "    </tr>\n",
              "    <tr>\n",
              "      <th>832083</th>\n",
              "      <td>Inception</td>\n",
              "      <td>2010</td>\n",
              "      <td>Carl Gilliard</td>\n",
              "      <td>actor</td>\n",
              "      <td>Lobby Sub Con</td>\n",
              "      <td>40.0</td>\n",
              "    </tr>\n",
              "    <tr>\n",
              "      <th>3225843</th>\n",
              "      <td>Inception</td>\n",
              "      <td>2010</td>\n",
              "      <td>Jill Maddrell</td>\n",
              "      <td>actress</td>\n",
              "      <td>Lobby Sub Con</td>\n",
              "      <td>41.0</td>\n",
              "    </tr>\n",
              "    <tr>\n",
              "      <th>3203564</th>\n",
              "      <td>Inception</td>\n",
              "      <td>2010</td>\n",
              "      <td>Alex (II) Lombard</td>\n",
              "      <td>actress</td>\n",
              "      <td>Lobby Sub Con</td>\n",
              "      <td>42.0</td>\n",
              "    </tr>\n",
              "    <tr>\n",
              "      <th>3444628</th>\n",
              "      <td>Inception</td>\n",
              "      <td>2010</td>\n",
              "      <td>Nicole Pulliam</td>\n",
              "      <td>actress</td>\n",
              "      <td>Lobby Sub Con</td>\n",
              "      <td>43.0</td>\n",
              "    </tr>\n",
              "    <tr>\n",
              "      <th>149008</th>\n",
              "      <td>Inception</td>\n",
              "      <td>2010</td>\n",
              "      <td>Peter Basham</td>\n",
              "      <td>actor</td>\n",
              "      <td>Fischer's Jet Captain</td>\n",
              "      <td>44.0</td>\n",
              "    </tr>\n",
              "    <tr>\n",
              "      <th>807795</th>\n",
              "      <td>Inception</td>\n",
              "      <td>2010</td>\n",
              "      <td>Michael Gaston</td>\n",
              "      <td>actor</td>\n",
              "      <td>Immigration Officer</td>\n",
              "      <td>45.0</td>\n",
              "    </tr>\n",
              "    <tr>\n",
              "      <th>2049179</th>\n",
              "      <td>Inception</td>\n",
              "      <td>2010</td>\n",
              "      <td>Felix Scott</td>\n",
              "      <td>actor</td>\n",
              "      <td>Businessman</td>\n",
              "      <td>46.0</td>\n",
              "    </tr>\n",
              "    <tr>\n",
              "      <th>1812091</th>\n",
              "      <td>Inception</td>\n",
              "      <td>2010</td>\n",
              "      <td>Andrew Pleavin</td>\n",
              "      <td>actor</td>\n",
              "      <td>Businessman</td>\n",
              "      <td>47.0</td>\n",
              "    </tr>\n",
              "    <tr>\n",
              "      <th>3473041</th>\n",
              "      <td>Inception</td>\n",
              "      <td>2010</td>\n",
              "      <td>Lisa (II) Reynolds</td>\n",
              "      <td>actress</td>\n",
              "      <td>Private Nurse</td>\n",
              "      <td>48.0</td>\n",
              "    </tr>\n",
              "    <tr>\n",
              "      <th>2250605</th>\n",
              "      <td>Inception</td>\n",
              "      <td>2010</td>\n",
              "      <td>Jason Tendell</td>\n",
              "      <td>actor</td>\n",
              "      <td>Fischer's Driver</td>\n",
              "      <td>49.0</td>\n",
              "    </tr>\n",
              "    <tr>\n",
              "      <th>833376</th>\n",
              "      <td>Inception</td>\n",
              "      <td>2010</td>\n",
              "      <td>Jack Gilroy</td>\n",
              "      <td>actor</td>\n",
              "      <td>Old Cobb</td>\n",
              "      <td>50.0</td>\n",
              "    </tr>\n",
              "    <tr>\n",
              "      <th>3731263</th>\n",
              "      <td>Inception</td>\n",
              "      <td>2010</td>\n",
              "      <td>Shannon Welles</td>\n",
              "      <td>actress</td>\n",
              "      <td>Old Mal</td>\n",
              "      <td>51.0</td>\n",
              "    </tr>\n",
              "  </tbody>\n",
              "</table>\n",
              "</div>"
            ],
            "text/plain": [
              "             title  year  ...                character     n\n",
              "590576   Inception  2010  ...                     Cobb   1.0\n",
              "859993   Inception  2010  ...                   Arthur   2.0\n",
              "3387147  Inception  2010  ...                  Ariadne   3.0\n",
              "940923   Inception  2010  ...                    Eames   4.0\n",
              "2406531  Inception  2010  ...                    Saito   5.0\n",
              "1876301  Inception  2010  ...                    Yusuf   6.0\n",
              "1615709  Inception  2010  ...           Robert Fischer   7.0\n",
              "183937   Inception  2010  ...                 Browning   8.0\n",
              "2765969  Inception  2010  ...                      Mal   9.0\n",
              "1826027  Inception  2010  ...          Maurice Fischer  10.0\n",
              "326745   Inception  2010  ...                    Miles  11.0\n",
              "910757   Inception  2010  ...                     Nash  12.0\n",
              "1309851  Inception  2010  ...                  Tadashi  13.0\n",
              "2932657  Inception  2010  ...       Phillipa (3 years)  14.0\n",
              "1668790  Inception  2010  ...        James (20 months)  15.0\n",
              "2932664  Inception  2010  ...       Phillipa (5 years)  16.0\n",
              "812135   Inception  2010  ...          James (3 years)  17.0\n",
              "1455534  Inception  2010  ...  Japanese Security Guard  18.0\n",
              "1701902  Inception  2010  ...        Saito's Attendant  19.0\n",
              "333415   Inception  2010  ...         Elderly Bald Man  20.0\n",
              "967176   Inception  2010  ...                   Lawyer  21.0\n",
              "3359825  Inception  2010  ...         Flight Attendant  22.0\n",
              "709436   Inception  2010  ...               Cab Driver  23.0\n",
              "1170785  Inception  2010  ...                 Thin Man  24.0\n",
              "3480170  Inception  2010  ...                   Blonde  25.0\n",
              "433867   Inception  2010  ...           Bridge Sub Con  26.0\n",
              "2807441  Inception  2010  ...           Bridge Sub Con  27.0\n",
              "3151982  Inception  2010  ...           Bridge Sub Con  28.0\n",
              "260128   Inception  2010  ...           Bridge Sub Con  29.0\n",
              "517227   Inception  2010  ...           Bridge Sub Con  30.0\n",
              "2776554  Inception  2010  ...          Penrose Sub Con  31.0\n",
              "737322   Inception  2010  ...          Penrose Sub Con  32.0\n",
              "3158892  Inception  2010  ...          Penrose Sub Con  33.0\n",
              "444385   Inception  2010  ...              Bar Sub Con  34.0\n",
              "1618527  Inception  2010  ...              Bar Sub Con  35.0\n",
              "2267383  Inception  2010  ...              Bar Sub Con  36.0\n",
              "3343512  Inception  2010  ...              Bar Sub Con  37.0\n",
              "2614557  Inception  2010  ...              Bar Sub Con  38.0\n",
              "1861317  Inception  2010  ...            Lobby Sub Con  39.0\n",
              "832083   Inception  2010  ...            Lobby Sub Con  40.0\n",
              "3225843  Inception  2010  ...            Lobby Sub Con  41.0\n",
              "3203564  Inception  2010  ...            Lobby Sub Con  42.0\n",
              "3444628  Inception  2010  ...            Lobby Sub Con  43.0\n",
              "149008   Inception  2010  ...    Fischer's Jet Captain  44.0\n",
              "807795   Inception  2010  ...      Immigration Officer  45.0\n",
              "2049179  Inception  2010  ...              Businessman  46.0\n",
              "1812091  Inception  2010  ...              Businessman  47.0\n",
              "3473041  Inception  2010  ...            Private Nurse  48.0\n",
              "2250605  Inception  2010  ...         Fischer's Driver  49.0\n",
              "833376   Inception  2010  ...                 Old Cobb  50.0\n",
              "3731263  Inception  2010  ...                  Old Mal  51.0\n",
              "\n",
              "[51 rows x 6 columns]"
            ]
          },
          "metadata": {
            "tags": []
          },
          "execution_count": 74
        }
      ]
    },
    {
      "cell_type": "markdown",
      "metadata": {
        "id": "8EJkyDlcel1w"
      },
      "source": [
        "### Section I - Q9:\n",
        "\n",
        "(A) List all movies where there was a character 'Albus Dumbledore' \n",
        "\n",
        "(B) Now modify the above to show only the actors who played the character 'Albus Dumbledore'\n",
        "- For Part (B) remember the same actor might play the same role in multiple movies"
      ]
    },
    {
      "cell_type": "code",
      "metadata": {
        "id": "Fj4kaGOjel1w",
        "colab": {
          "base_uri": "https://localhost:8080/",
          "height": 421
        },
        "outputId": "43e57f05-6f26-483d-98d3-28fa77c59602"
      },
      "source": [
        "albus_df = cast[cast.character.str.contains('Albus Dumbledore')]\n",
        "albus_df"
      ],
      "execution_count": 86,
      "outputs": [
        {
          "output_type": "execute_result",
          "data": {
            "text/html": [
              "<div>\n",
              "<style scoped>\n",
              "    .dataframe tbody tr th:only-of-type {\n",
              "        vertical-align: middle;\n",
              "    }\n",
              "\n",
              "    .dataframe tbody tr th {\n",
              "        vertical-align: top;\n",
              "    }\n",
              "\n",
              "    .dataframe thead th {\n",
              "        text-align: right;\n",
              "    }\n",
              "</style>\n",
              "<table border=\"1\" class=\"dataframe\">\n",
              "  <thead>\n",
              "    <tr style=\"text-align: right;\">\n",
              "      <th></th>\n",
              "      <th>title</th>\n",
              "      <th>year</th>\n",
              "      <th>name</th>\n",
              "      <th>type</th>\n",
              "      <th>character</th>\n",
              "      <th>n</th>\n",
              "    </tr>\n",
              "  </thead>\n",
              "  <tbody>\n",
              "    <tr>\n",
              "      <th>704984</th>\n",
              "      <td>Epic Movie</td>\n",
              "      <td>2007</td>\n",
              "      <td>Dane Farwell</td>\n",
              "      <td>actor</td>\n",
              "      <td>Albus Dumbledore</td>\n",
              "      <td>17.0</td>\n",
              "    </tr>\n",
              "    <tr>\n",
              "      <th>792419</th>\n",
              "      <td>Harry Potter and the Deathly Hallows: Part 1</td>\n",
              "      <td>2010</td>\n",
              "      <td>Michael Gambon</td>\n",
              "      <td>actor</td>\n",
              "      <td>Professor Albus Dumbledore</td>\n",
              "      <td>39.0</td>\n",
              "    </tr>\n",
              "    <tr>\n",
              "      <th>792420</th>\n",
              "      <td>Harry Potter and the Deathly Hallows: Part 2</td>\n",
              "      <td>2011</td>\n",
              "      <td>Michael Gambon</td>\n",
              "      <td>actor</td>\n",
              "      <td>Professor Albus Dumbledore</td>\n",
              "      <td>2.0</td>\n",
              "    </tr>\n",
              "    <tr>\n",
              "      <th>792421</th>\n",
              "      <td>Harry Potter and the Goblet of Fire</td>\n",
              "      <td>2005</td>\n",
              "      <td>Michael Gambon</td>\n",
              "      <td>actor</td>\n",
              "      <td>Albus Dumbledore</td>\n",
              "      <td>37.0</td>\n",
              "    </tr>\n",
              "    <tr>\n",
              "      <th>792422</th>\n",
              "      <td>Harry Potter and the Half-Blood Prince</td>\n",
              "      <td>2009</td>\n",
              "      <td>Michael Gambon</td>\n",
              "      <td>actor</td>\n",
              "      <td>Professor Albus Dumbledore</td>\n",
              "      <td>2.0</td>\n",
              "    </tr>\n",
              "    <tr>\n",
              "      <th>792423</th>\n",
              "      <td>Harry Potter and the Order of the Phoenix</td>\n",
              "      <td>2007</td>\n",
              "      <td>Michael Gambon</td>\n",
              "      <td>actor</td>\n",
              "      <td>Albus Dumbledore</td>\n",
              "      <td>36.0</td>\n",
              "    </tr>\n",
              "    <tr>\n",
              "      <th>792424</th>\n",
              "      <td>Harry Potter and the Prisoner of Azkaban</td>\n",
              "      <td>2004</td>\n",
              "      <td>Michael Gambon</td>\n",
              "      <td>actor</td>\n",
              "      <td>Albus Dumbledore</td>\n",
              "      <td>27.0</td>\n",
              "    </tr>\n",
              "    <tr>\n",
              "      <th>947789</th>\n",
              "      <td>Harry Potter and the Chamber of Secrets</td>\n",
              "      <td>2002</td>\n",
              "      <td>Richard Harris</td>\n",
              "      <td>actor</td>\n",
              "      <td>Albus Dumbledore</td>\n",
              "      <td>32.0</td>\n",
              "    </tr>\n",
              "    <tr>\n",
              "      <th>947790</th>\n",
              "      <td>Harry Potter and the Sorcerer's Stone</td>\n",
              "      <td>2001</td>\n",
              "      <td>Richard Harris</td>\n",
              "      <td>actor</td>\n",
              "      <td>Albus Dumbledore</td>\n",
              "      <td>1.0</td>\n",
              "    </tr>\n",
              "    <tr>\n",
              "      <th>1685537</th>\n",
              "      <td>Ultimate Hero Project</td>\n",
              "      <td>2013</td>\n",
              "      <td>George (X) O'Connor</td>\n",
              "      <td>actor</td>\n",
              "      <td>Albus Dumbledore</td>\n",
              "      <td>NaN</td>\n",
              "    </tr>\n",
              "    <tr>\n",
              "      <th>1893421</th>\n",
              "      <td>Harry Potter and the Deathly Hallows: Part 1</td>\n",
              "      <td>2010</td>\n",
              "      <td>Toby Regbo</td>\n",
              "      <td>actor</td>\n",
              "      <td>Young Albus Dumbledore</td>\n",
              "      <td>NaN</td>\n",
              "    </tr>\n",
              "    <tr>\n",
              "      <th>2248085</th>\n",
              "      <td>Potter</td>\n",
              "      <td>2015</td>\n",
              "      <td>Timothy Tedmanson</td>\n",
              "      <td>actor</td>\n",
              "      <td>Albus Dumbledore</td>\n",
              "      <td>NaN</td>\n",
              "    </tr>\n",
              "  </tbody>\n",
              "</table>\n",
              "</div>"
            ],
            "text/plain": [
              "                                                title  ...     n\n",
              "704984                                     Epic Movie  ...  17.0\n",
              "792419   Harry Potter and the Deathly Hallows: Part 1  ...  39.0\n",
              "792420   Harry Potter and the Deathly Hallows: Part 2  ...   2.0\n",
              "792421            Harry Potter and the Goblet of Fire  ...  37.0\n",
              "792422         Harry Potter and the Half-Blood Prince  ...   2.0\n",
              "792423      Harry Potter and the Order of the Phoenix  ...  36.0\n",
              "792424       Harry Potter and the Prisoner of Azkaban  ...  27.0\n",
              "947789        Harry Potter and the Chamber of Secrets  ...  32.0\n",
              "947790          Harry Potter and the Sorcerer's Stone  ...   1.0\n",
              "1685537                         Ultimate Hero Project  ...   NaN\n",
              "1893421  Harry Potter and the Deathly Hallows: Part 1  ...   NaN\n",
              "2248085                                        Potter  ...   NaN\n",
              "\n",
              "[12 rows x 6 columns]"
            ]
          },
          "metadata": {
            "tags": []
          },
          "execution_count": 86
        }
      ]
    },
    {
      "cell_type": "code",
      "metadata": {
        "id": "UKpTGMQ2el1w",
        "colab": {
          "base_uri": "https://localhost:8080/"
        },
        "outputId": "d9c3af92-93ad-4790-a752-39bceda96121"
      },
      "source": [
        "unique = albus_df['name'].unique()\n",
        "\n",
        "for x in unique:\n",
        "  print(x)\n"
      ],
      "execution_count": 89,
      "outputs": [
        {
          "output_type": "stream",
          "text": [
            "Dane Farwell\n",
            "Michael Gambon\n",
            "Richard Harris\n",
            "George (X) O'Connor\n",
            "Toby Regbo\n",
            "Timothy Tedmanson\n"
          ],
          "name": "stdout"
        }
      ]
    },
    {
      "cell_type": "markdown",
      "metadata": {
        "id": "_wpZgfMxel1w"
      },
      "source": [
        "### Section I - Q10:\n",
        "\n",
        "(A) How many roles has 'Keanu Reeves' played throughout his career?\n",
        "\n",
        "(B) List the leading roles that 'Keanu Reeves' played on or after 1999 in order by year."
      ]
    },
    {
      "cell_type": "code",
      "metadata": {
        "id": "8u7kQIdoel1w",
        "colab": {
          "base_uri": "https://localhost:8080/"
        },
        "outputId": "6948c38e-1387-48cf-8a6a-8bbb7c6a2a40"
      },
      "source": [
        "keanu_df = cast[cast.name.str.contains(\"Keanu Reeves\")]\n",
        "len(keanu_df)"
      ],
      "execution_count": 90,
      "outputs": [
        {
          "output_type": "execute_result",
          "data": {
            "text/plain": [
              "62"
            ]
          },
          "metadata": {
            "tags": []
          },
          "execution_count": 90
        }
      ]
    },
    {
      "cell_type": "code",
      "metadata": {
        "id": "KLtqDPt2el1w",
        "colab": {
          "base_uri": "https://localhost:8080/",
          "height": 960
        },
        "outputId": "589296a7-15d4-4066-8dfa-b74c88748ae2"
      },
      "source": [
        "lead_keanu_df = keanu_df[(keanu_df.n == 1.0)]\n",
        "lead_keanu_df.sort_values(by=\"year\", ascending=True, inplace=True)\n",
        "lead_keanu_df"
      ],
      "execution_count": 104,
      "outputs": [
        {
          "output_type": "stream",
          "text": [
            "/usr/local/lib/python3.7/dist-packages/ipykernel_launcher.py:2: SettingWithCopyWarning: \n",
            "A value is trying to be set on a copy of a slice from a DataFrame\n",
            "\n",
            "See the caveats in the documentation: https://pandas.pydata.org/pandas-docs/stable/user_guide/indexing.html#returning-a-view-versus-a-copy\n",
            "  \n"
          ],
          "name": "stderr"
        },
        {
          "output_type": "execute_result",
          "data": {
            "text/html": [
              "<div>\n",
              "<style scoped>\n",
              "    .dataframe tbody tr th:only-of-type {\n",
              "        vertical-align: middle;\n",
              "    }\n",
              "\n",
              "    .dataframe tbody tr th {\n",
              "        vertical-align: top;\n",
              "    }\n",
              "\n",
              "    .dataframe thead th {\n",
              "        text-align: right;\n",
              "    }\n",
              "</style>\n",
              "<table border=\"1\" class=\"dataframe\">\n",
              "  <thead>\n",
              "    <tr style=\"text-align: right;\">\n",
              "      <th></th>\n",
              "      <th>title</th>\n",
              "      <th>year</th>\n",
              "      <th>name</th>\n",
              "      <th>type</th>\n",
              "      <th>character</th>\n",
              "      <th>n</th>\n",
              "    </tr>\n",
              "  </thead>\n",
              "  <tbody>\n",
              "    <tr>\n",
              "      <th>1892373</th>\n",
              "      <td>One Step Away</td>\n",
              "      <td>1985</td>\n",
              "      <td>Keanu Reeves</td>\n",
              "      <td>actor</td>\n",
              "      <td>Ron Petrie</td>\n",
              "      <td>1.0</td>\n",
              "    </tr>\n",
              "    <tr>\n",
              "      <th>1892394</th>\n",
              "      <td>The Night Before</td>\n",
              "      <td>1988</td>\n",
              "      <td>Keanu Reeves</td>\n",
              "      <td>actor</td>\n",
              "      <td>Winston Connelly</td>\n",
              "      <td>1.0</td>\n",
              "    </tr>\n",
              "    <tr>\n",
              "      <th>1892346</th>\n",
              "      <td>Bill &amp; Ted's Excellent Adventure</td>\n",
              "      <td>1989</td>\n",
              "      <td>Keanu Reeves</td>\n",
              "      <td>actor</td>\n",
              "      <td>Ted</td>\n",
              "      <td>1.0</td>\n",
              "    </tr>\n",
              "    <tr>\n",
              "      <th>1892345</th>\n",
              "      <td>Bill &amp; Ted's Bogus Journey</td>\n",
              "      <td>1991</td>\n",
              "      <td>Keanu Reeves</td>\n",
              "      <td>actor</td>\n",
              "      <td>Ted</td>\n",
              "      <td>1.0</td>\n",
              "    </tr>\n",
              "    <tr>\n",
              "      <th>1892367</th>\n",
              "      <td>Little Buddha</td>\n",
              "      <td>1993</td>\n",
              "      <td>Keanu Reeves</td>\n",
              "      <td>actor</td>\n",
              "      <td>Siddhartha</td>\n",
              "      <td>1.0</td>\n",
              "    </tr>\n",
              "    <tr>\n",
              "      <th>1892380</th>\n",
              "      <td>Speed</td>\n",
              "      <td>1994</td>\n",
              "      <td>Keanu Reeves</td>\n",
              "      <td>actor</td>\n",
              "      <td>Jack Traven</td>\n",
              "      <td>1.0</td>\n",
              "    </tr>\n",
              "    <tr>\n",
              "      <th>1892344</th>\n",
              "      <td>A Walk in the Clouds</td>\n",
              "      <td>1995</td>\n",
              "      <td>Keanu Reeves</td>\n",
              "      <td>actor</td>\n",
              "      <td>Paul Sutton</td>\n",
              "      <td>1.0</td>\n",
              "    </tr>\n",
              "    <tr>\n",
              "      <th>1892364</th>\n",
              "      <td>Johnny Mnemonic</td>\n",
              "      <td>1995</td>\n",
              "      <td>Keanu Reeves</td>\n",
              "      <td>actor</td>\n",
              "      <td>Johnny Mnemonic</td>\n",
              "      <td>1.0</td>\n",
              "    </tr>\n",
              "    <tr>\n",
              "      <th>1892347</th>\n",
              "      <td>Chain Reaction</td>\n",
              "      <td>1996</td>\n",
              "      <td>Keanu Reeves</td>\n",
              "      <td>actor</td>\n",
              "      <td>Eddie Kasalivich</td>\n",
              "      <td>1.0</td>\n",
              "    </tr>\n",
              "    <tr>\n",
              "      <th>1892354</th>\n",
              "      <td>Feeling Minnesota</td>\n",
              "      <td>1996</td>\n",
              "      <td>Keanu Reeves</td>\n",
              "      <td>actor</td>\n",
              "      <td>Jjaks Clayton</td>\n",
              "      <td>1.0</td>\n",
              "    </tr>\n",
              "    <tr>\n",
              "      <th>1892386</th>\n",
              "      <td>The Devil's Advocate</td>\n",
              "      <td>1997</td>\n",
              "      <td>Keanu Reeves</td>\n",
              "      <td>actor</td>\n",
              "      <td>Kevin Lomax</td>\n",
              "      <td>1.0</td>\n",
              "    </tr>\n",
              "    <tr>\n",
              "      <th>1892390</th>\n",
              "      <td>The Matrix</td>\n",
              "      <td>1999</td>\n",
              "      <td>Keanu Reeves</td>\n",
              "      <td>actor</td>\n",
              "      <td>Neo</td>\n",
              "      <td>1.0</td>\n",
              "    </tr>\n",
              "    <tr>\n",
              "      <th>1892397</th>\n",
              "      <td>The Replacements</td>\n",
              "      <td>2000</td>\n",
              "      <td>Keanu Reeves</td>\n",
              "      <td>actor</td>\n",
              "      <td>Shane Falco</td>\n",
              "      <td>1.0</td>\n",
              "    </tr>\n",
              "    <tr>\n",
              "      <th>1892358</th>\n",
              "      <td>Hard Ball</td>\n",
              "      <td>2001</td>\n",
              "      <td>Keanu Reeves</td>\n",
              "      <td>actor</td>\n",
              "      <td>Conor O'Neill</td>\n",
              "      <td>1.0</td>\n",
              "    </tr>\n",
              "    <tr>\n",
              "      <th>1892383</th>\n",
              "      <td>Sweet November</td>\n",
              "      <td>2001</td>\n",
              "      <td>Keanu Reeves</td>\n",
              "      <td>actor</td>\n",
              "      <td>Nelson Moss</td>\n",
              "      <td>1.0</td>\n",
              "    </tr>\n",
              "    <tr>\n",
              "      <th>1892348</th>\n",
              "      <td>Constantine</td>\n",
              "      <td>2005</td>\n",
              "      <td>Keanu Reeves</td>\n",
              "      <td>actor</td>\n",
              "      <td>John Constantine</td>\n",
              "      <td>1.0</td>\n",
              "    </tr>\n",
              "    <tr>\n",
              "      <th>1892388</th>\n",
              "      <td>The Lake House</td>\n",
              "      <td>2006</td>\n",
              "      <td>Keanu Reeves</td>\n",
              "      <td>actor</td>\n",
              "      <td>Alex Wyler</td>\n",
              "      <td>1.0</td>\n",
              "    </tr>\n",
              "    <tr>\n",
              "      <th>1892382</th>\n",
              "      <td>Street Kings</td>\n",
              "      <td>2008</td>\n",
              "      <td>Keanu Reeves</td>\n",
              "      <td>actor</td>\n",
              "      <td>Detective Tom Ludlow</td>\n",
              "      <td>1.0</td>\n",
              "    </tr>\n",
              "    <tr>\n",
              "      <th>1892385</th>\n",
              "      <td>The Day the Earth Stood Still</td>\n",
              "      <td>2008</td>\n",
              "      <td>Keanu Reeves</td>\n",
              "      <td>actor</td>\n",
              "      <td>Klaatu</td>\n",
              "      <td>1.0</td>\n",
              "    </tr>\n",
              "    <tr>\n",
              "      <th>1892359</th>\n",
              "      <td>Henry's Crime</td>\n",
              "      <td>2010</td>\n",
              "      <td>Keanu Reeves</td>\n",
              "      <td>actor</td>\n",
              "      <td>Henry Torne</td>\n",
              "      <td>1.0</td>\n",
              "    </tr>\n",
              "    <tr>\n",
              "      <th>1892342</th>\n",
              "      <td>47 Ronin</td>\n",
              "      <td>2013</td>\n",
              "      <td>Keanu Reeves</td>\n",
              "      <td>actor</td>\n",
              "      <td>Kai</td>\n",
              "      <td>1.0</td>\n",
              "    </tr>\n",
              "    <tr>\n",
              "      <th>1892361</th>\n",
              "      <td>John Wick</td>\n",
              "      <td>2014</td>\n",
              "      <td>Keanu Reeves</td>\n",
              "      <td>actor</td>\n",
              "      <td>John Wick</td>\n",
              "      <td>1.0</td>\n",
              "    </tr>\n",
              "    <tr>\n",
              "      <th>1892366</th>\n",
              "      <td>Knock Knock</td>\n",
              "      <td>2015</td>\n",
              "      <td>Keanu Reeves</td>\n",
              "      <td>actor</td>\n",
              "      <td>Evan</td>\n",
              "      <td>1.0</td>\n",
              "    </tr>\n",
              "    <tr>\n",
              "      <th>1892399</th>\n",
              "      <td>The Whole Truth</td>\n",
              "      <td>2016</td>\n",
              "      <td>Keanu Reeves</td>\n",
              "      <td>actor</td>\n",
              "      <td>Ramsey</td>\n",
              "      <td>1.0</td>\n",
              "    </tr>\n",
              "    <tr>\n",
              "      <th>1892362</th>\n",
              "      <td>John Wick: Chapter 2</td>\n",
              "      <td>2017</td>\n",
              "      <td>Keanu Reeves</td>\n",
              "      <td>actor</td>\n",
              "      <td>John Wick</td>\n",
              "      <td>1.0</td>\n",
              "    </tr>\n",
              "    <tr>\n",
              "      <th>1892378</th>\n",
              "      <td>Siberia</td>\n",
              "      <td>2018</td>\n",
              "      <td>Keanu Reeves</td>\n",
              "      <td>actor</td>\n",
              "      <td>Lucas Hill</td>\n",
              "      <td>1.0</td>\n",
              "    </tr>\n",
              "  </tbody>\n",
              "</table>\n",
              "</div>"
            ],
            "text/plain": [
              "                                    title  year  ...             character    n\n",
              "1892373                     One Step Away  1985  ...            Ron Petrie  1.0\n",
              "1892394                  The Night Before  1988  ...      Winston Connelly  1.0\n",
              "1892346  Bill & Ted's Excellent Adventure  1989  ...                   Ted  1.0\n",
              "1892345        Bill & Ted's Bogus Journey  1991  ...                   Ted  1.0\n",
              "1892367                     Little Buddha  1993  ...            Siddhartha  1.0\n",
              "1892380                             Speed  1994  ...           Jack Traven  1.0\n",
              "1892344              A Walk in the Clouds  1995  ...           Paul Sutton  1.0\n",
              "1892364                   Johnny Mnemonic  1995  ...       Johnny Mnemonic  1.0\n",
              "1892347                    Chain Reaction  1996  ...      Eddie Kasalivich  1.0\n",
              "1892354                 Feeling Minnesota  1996  ...         Jjaks Clayton  1.0\n",
              "1892386              The Devil's Advocate  1997  ...           Kevin Lomax  1.0\n",
              "1892390                        The Matrix  1999  ...                   Neo  1.0\n",
              "1892397                  The Replacements  2000  ...           Shane Falco  1.0\n",
              "1892358                         Hard Ball  2001  ...         Conor O'Neill  1.0\n",
              "1892383                    Sweet November  2001  ...           Nelson Moss  1.0\n",
              "1892348                       Constantine  2005  ...      John Constantine  1.0\n",
              "1892388                    The Lake House  2006  ...            Alex Wyler  1.0\n",
              "1892382                      Street Kings  2008  ...  Detective Tom Ludlow  1.0\n",
              "1892385     The Day the Earth Stood Still  2008  ...                Klaatu  1.0\n",
              "1892359                     Henry's Crime  2010  ...           Henry Torne  1.0\n",
              "1892342                          47 Ronin  2013  ...                   Kai  1.0\n",
              "1892361                         John Wick  2014  ...             John Wick  1.0\n",
              "1892366                       Knock Knock  2015  ...                  Evan  1.0\n",
              "1892399                   The Whole Truth  2016  ...                Ramsey  1.0\n",
              "1892362              John Wick: Chapter 2  2017  ...             John Wick  1.0\n",
              "1892378                           Siberia  2018  ...            Lucas Hill  1.0\n",
              "\n",
              "[26 rows x 6 columns]"
            ]
          },
          "metadata": {
            "tags": []
          },
          "execution_count": 104
        }
      ]
    },
    {
      "cell_type": "markdown",
      "metadata": {
        "id": "LYSQHjZxel1w"
      },
      "source": [
        "### Section I - Q11: \n",
        "\n",
        "(A) List the total number of actor and actress roles available from 1950 - 1960\n",
        "\n",
        "(B) List the total number of actor and actress roles available from 2007 - 2017"
      ]
    },
    {
      "cell_type": "code",
      "metadata": {
        "id": "lN8uw7isel1x",
        "colab": {
          "base_uri": "https://localhost:8080/"
        },
        "outputId": "66e81a54-b1fb-4dc5-a7fd-f8deca590891"
      },
      "source": [
        "len(cast[(cast.year >= 1950) & (cast.year <= 1960)])\n"
      ],
      "execution_count": 106,
      "outputs": [
        {
          "output_type": "execute_result",
          "data": {
            "text/plain": [
              "234635"
            ]
          },
          "metadata": {
            "tags": []
          },
          "execution_count": 106
        }
      ]
    },
    {
      "cell_type": "code",
      "metadata": {
        "id": "m843SP3sel1x",
        "colab": {
          "base_uri": "https://localhost:8080/"
        },
        "outputId": "cf1bea13-32da-42a3-c973-ca1da4b72e6f"
      },
      "source": [
        "len(cast[(cast.year >= 2007) & (cast.year <= 2017)])"
      ],
      "execution_count": 101,
      "outputs": [
        {
          "output_type": "execute_result",
          "data": {
            "text/plain": [
              "1452413"
            ]
          },
          "metadata": {
            "tags": []
          },
          "execution_count": 101
        }
      ]
    },
    {
      "cell_type": "markdown",
      "metadata": {
        "id": "N_PmCJsfel1x"
      },
      "source": [
        "### Section I - Q12: \n",
        "\n",
        "(A) List the total number of leading roles available from 2000 to present\n",
        "\n",
        "(B) List the total number of non-leading roles available from 2000 - present (exclude support cast)\n",
        "\n",
        "(C) List the total number of support\\extra-credit roles available from 2000 - present"
      ]
    },
    {
      "cell_type": "code",
      "metadata": {
        "id": "eSJiSps0el1x",
        "colab": {
          "base_uri": "https://localhost:8080/"
        },
        "outputId": "2949c33e-4b1b-4045-8d10-20659288058a"
      },
      "source": [
        "len(cast[(cast.year >= 2000) & (cast.n == 1.0)])"
      ],
      "execution_count": 107,
      "outputs": [
        {
          "output_type": "execute_result",
          "data": {
            "text/plain": [
              "60568"
            ]
          },
          "metadata": {
            "tags": []
          },
          "execution_count": 107
        }
      ]
    },
    {
      "cell_type": "code",
      "metadata": {
        "id": "52LfDsjqel1x",
        "colab": {
          "base_uri": "https://localhost:8080/"
        },
        "outputId": "709172db-f157-44da-ceda-097ce088fc48"
      },
      "source": [
        "len(cast[(cast.year >= 2000) & ~(cast.n.isnull()) & (cast.n != 1.0)])"
      ],
      "execution_count": 109,
      "outputs": [
        {
          "output_type": "execute_result",
          "data": {
            "text/plain": [
              "1001710"
            ]
          },
          "metadata": {
            "tags": []
          },
          "execution_count": 109
        }
      ]
    },
    {
      "cell_type": "code",
      "metadata": {
        "id": "0FpHgKhvel1x",
        "colab": {
          "base_uri": "https://localhost:8080/"
        },
        "outputId": "542f7cb8-d229-449c-d823-5efb503115eb"
      },
      "source": [
        "len(cast[(cast.year >= 2000) & (cast.n.isnull())])"
      ],
      "execution_count": 110,
      "outputs": [
        {
          "output_type": "execute_result",
          "data": {
            "text/plain": [
              "887484"
            ]
          },
          "metadata": {
            "tags": []
          },
          "execution_count": 110
        }
      ]
    },
    {
      "cell_type": "markdown",
      "metadata": {
        "id": "MdTuNfhZel1x"
      },
      "source": [
        "# Section II - Aggregations, Transformations and Visualizations"
      ]
    },
    {
      "cell_type": "markdown",
      "metadata": {
        "id": "b89F6_6xel1y"
      },
      "source": [
        "## What are the top ten most common movie names of all time?\n"
      ]
    },
    {
      "cell_type": "code",
      "metadata": {
        "id": "i04mavlgel1y",
        "colab": {
          "base_uri": "https://localhost:8080/"
        },
        "outputId": "46d4de6b-885b-4969-ab33-db03a0e19d9a"
      },
      "source": [
        "top_ten = movies.title.value_counts()[:10]\n",
        "top_ten"
      ],
      "execution_count": 111,
      "outputs": [
        {
          "output_type": "execute_result",
          "data": {
            "text/plain": [
              "Hamlet                  20\n",
              "Carmen                  17\n",
              "Macbeth                 16\n",
              "Maya                    12\n",
              "Temptation              12\n",
              "The Outsider            12\n",
              "The Three Musketeers    11\n",
              "Othello                 11\n",
              "Honeymoon               11\n",
              "Freedom                 11\n",
              "Name: title, dtype: int64"
            ]
          },
          "metadata": {
            "tags": []
          },
          "execution_count": 111
        }
      ]
    },
    {
      "cell_type": "markdown",
      "metadata": {
        "id": "g5owpraYel1y"
      },
      "source": [
        "### Plot the top ten common movie names of all time"
      ]
    },
    {
      "cell_type": "code",
      "metadata": {
        "id": "XVFDtBN6el1y",
        "colab": {
          "base_uri": "https://localhost:8080/",
          "height": 282
        },
        "outputId": "4f826e18-3cca-43d7-f3b9-e97440b1a019"
      },
      "source": [
        "top_ten.plot(kind='barh')"
      ],
      "execution_count": 112,
      "outputs": [
        {
          "output_type": "execute_result",
          "data": {
            "text/plain": [
              "<matplotlib.axes._subplots.AxesSubplot at 0x7f6834f8ac50>"
            ]
          },
          "metadata": {
            "tags": []
          },
          "execution_count": 112
        },
        {
          "output_type": "display_data",
          "data": {
            "image/png": "[encoded data removed]",
            "text/plain": [
              "<Figure size 432x288 with 1 Axes>"
            ]
          },
          "metadata": {
            "tags": [],
            "needs_background": "light"
          }
        }
      ]
    },
    {
      "cell_type": "markdown",
      "metadata": {
        "id": "X1IadRpcel1y"
      },
      "source": [
        "### Section II - Q1:  Which years in the 2000s saw the most movies released? (Show top 3)"
      ]
    },
    {
      "cell_type": "code",
      "metadata": {
        "id": "i_n11TIxel1y",
        "colab": {
          "base_uri": "https://localhost:8080/"
        },
        "outputId": "faa05183-eac8-462c-93d6-f3f894583e8a"
      },
      "source": [
        "twok_rel = movies.year.value_counts()[:10]\n",
        "twok_rel"
      ],
      "execution_count": 114,
      "outputs": [
        {
          "output_type": "execute_result",
          "data": {
            "text/plain": [
              "2017    11474\n",
              "2016     9440\n",
              "2015     8702\n",
              "2014     8264\n",
              "2018     8041\n",
              "2013     7896\n",
              "2012     7398\n",
              "2011     6988\n",
              "2010     6415\n",
              "2009     6125\n",
              "Name: year, dtype: int64"
            ]
          },
          "metadata": {
            "tags": []
          },
          "execution_count": 114
        }
      ]
    },
    {
      "cell_type": "markdown",
      "metadata": {
        "id": "XjJKsWglel1y"
      },
      "source": [
        "### Section II - Q2: # Plot the total number of films released per-decade (1890, 1900, 1910,....)\n",
        "- Hint: Dividing the year and multiplying with a number might give you the decade the year falls into!\n",
        "- You might need to sort before plotting"
      ]
    },
    {
      "cell_type": "code",
      "metadata": {
        "id": "jVRlFZk-el1y",
        "colab": {
          "base_uri": "https://localhost:8080/",
          "height": 282
        },
        "outputId": "765f3833-fd94-44e2-d133-1cd34fa0fa5d"
      },
      "source": [
        "films = movies.copy()\n",
        "films['decade'] = (films.year / 10).astype(int) * 10\n",
        "films = films.decade.value_counts()\n",
        "films.sort_index(ascending = True, inplace=True)\n",
        "films.plot(kind='line')"
      ],
      "execution_count": 168,
      "outputs": [
        {
          "output_type": "execute_result",
          "data": {
            "text/plain": [
              "<matplotlib.axes._subplots.AxesSubplot at 0x7f6818b08890>"
            ]
          },
          "metadata": {
            "tags": []
          },
          "execution_count": 168
        },
        {
          "output_type": "display_data",
          "data": {
            "image/png": "[encoded data removed]",
            "text/plain": [
              "<Figure size 432x288 with 1 Axes>"
            ]
          },
          "metadata": {
            "tags": [],
            "needs_background": "light"
          }
        }
      ]
    },
    {
      "cell_type": "markdown",
      "metadata": {
        "id": "RLaVno8Pel1z"
      },
      "source": [
        "### Section II - Q3: \n",
        "\n",
        "(A) What are the top 10 most common character names in movie history?\n",
        "\n",
        "(B) Who are the top 10 people most often credited as \"Herself\" in movie history?\n",
        "\n",
        "(C) Who are the top 10 people most often credited as \"Himself\" in movie history?"
      ]
    },
    {
      "cell_type": "code",
      "metadata": {
        "id": "0IYJ_TEwel1z",
        "colab": {
          "base_uri": "https://localhost:8080/",
          "height": 330
        },
        "outputId": "28b3552c-5aa7-4845-d7e6-4137a0d9aab4"
      },
      "source": [
        "char = cast.character.value_counts()[:10]\n",
        "char.plot(kind='bar')"
      ],
      "execution_count": 158,
      "outputs": [
        {
          "output_type": "execute_result",
          "data": {
            "text/plain": [
              "<matplotlib.axes._subplots.AxesSubplot at 0x7f6818c0e9d0>"
            ]
          },
          "metadata": {
            "tags": []
          },
          "execution_count": 158
        },
        {
          "output_type": "display_data",
          "data": {
            "image/png": "[encoded data removed]",
            "text/plain": [
              "<Figure size 432x288 with 1 Axes>"
            ]
          },
          "metadata": {
            "tags": [],
            "needs_background": "light"
          }
        }
      ]
    },
    {
      "cell_type": "code",
      "metadata": {
        "id": "EeSZTGeNel1z",
        "colab": {
          "base_uri": "https://localhost:8080/"
        },
        "outputId": "40889aee-ef0e-4448-b55d-00713251b6a9"
      },
      "source": [
        "herself = cast[cast.character.str.contains('Herself')]\n",
        "hers = herself.name.value_counts()[:10]\n",
        "hers\n"
      ],
      "execution_count": 161,
      "outputs": [
        {
          "output_type": "execute_result",
          "data": {
            "text/plain": [
              "Queen Elizabeth II                  18\n",
              "Jacqueline Kennedy                  12\n",
              "Joyce Brothers                      10\n",
              "Margaret Thatcher                   10\n",
              "Luisa Horga                          9\n",
              "Mar?a Luisa (V) Mart?n               9\n",
              "Hillary Clinton                      9\n",
              "Pat Nixon                            8\n",
              "Queen Elizabeth the Queen Mother     7\n",
              "Caroline Kennedy                     7\n",
              "Name: name, dtype: int64"
            ]
          },
          "metadata": {
            "tags": []
          },
          "execution_count": 161
        }
      ]
    },
    {
      "cell_type": "code",
      "metadata": {
        "id": "BuULeVCrel1z",
        "colab": {
          "base_uri": "https://localhost:8080/"
        },
        "outputId": "99f6911a-cf53-4d57-a325-586ed4fc2a78"
      },
      "source": [
        "himself = cast[cast.character.str.contains('Himself')]\n",
        "hims = himself.name.value_counts()[:10]\n",
        "hims"
      ],
      "execution_count": 162,
      "outputs": [
        {
          "output_type": "execute_result",
          "data": {
            "text/plain": [
              "Adolf Hitler             115\n",
              "Richard Nixon             54\n",
              "John F. Kennedy           49\n",
              "Ronald Reagan             46\n",
              "Winston Churchill         28\n",
              "George W. Bush            28\n",
              "Martin Luther King        26\n",
              "Benito Mussolini          26\n",
              "Franklin D. Roosevelt     25\n",
              "Bill Clinton              23\n",
              "Name: name, dtype: int64"
            ]
          },
          "metadata": {
            "tags": []
          },
          "execution_count": 162
        }
      ]
    },
    {
      "cell_type": "markdown",
      "metadata": {
        "id": "gxhUYHOpel1z"
      },
      "source": [
        "### Section II - Q4: \n",
        "\n",
        "(A) What are the top 10 most frequent roles that start with the word \"Zombie\"?\n",
        "\n",
        "(B) What are the top 10 most frequent roles that start with the word \"Police\"?\n",
        "\n",
        "- Hint: The `startswith()` function might be useful"
      ]
    },
    {
      "cell_type": "code",
      "metadata": {
        "id": "bc4rJB-jel1z",
        "colab": {
          "base_uri": "https://localhost:8080/"
        },
        "outputId": "93f7aa15-763e-47f0-fffc-2b61e8e9b616"
      },
      "source": [
        "zombies = cast[cast.character.str.startswith('Zombie')]\n",
        "zombies.character.value_counts()[:10]"
      ],
      "execution_count": 165,
      "outputs": [
        {
          "output_type": "execute_result",
          "data": {
            "text/plain": [
              "Zombie                         6264\n",
              "Zombie Horde                    206\n",
              "Zombie - Protestor - Victim      78\n",
              "Zombie Extra                     70\n",
              "Zombie Dancer                    43\n",
              "Zombie Girl                      36\n",
              "Zombie #1                        36\n",
              "Zombie #2                        31\n",
              "Zombie Vampire                   25\n",
              "Zombie Victim                    22\n",
              "Name: character, dtype: int64"
            ]
          },
          "metadata": {
            "tags": []
          },
          "execution_count": 165
        }
      ]
    },
    {
      "cell_type": "code",
      "metadata": {
        "id": "h26GgQ57el1z",
        "colab": {
          "base_uri": "https://localhost:8080/"
        },
        "outputId": "acc0fe17-5d60-4bd0-f734-b63d1414660a"
      },
      "source": [
        "police = cast[cast.character.str.startswith('Police')]\n",
        "police.character.value_counts()[:10]"
      ],
      "execution_count": 166,
      "outputs": [
        {
          "output_type": "execute_result",
          "data": {
            "text/plain": [
              "Policeman              7029\n",
              "Police Officer         4808\n",
              "Police Inspector        742\n",
              "Police Sergeant         674\n",
              "Police officer          539\n",
              "Police                  456\n",
              "Policewoman             415\n",
              "Police Chief            410\n",
              "Police Captain          387\n",
              "Police Commissioner     337\n",
              "Name: character, dtype: int64"
            ]
          },
          "metadata": {
            "tags": []
          },
          "execution_count": 166
        }
      ]
    },
    {
      "cell_type": "markdown",
      "metadata": {
        "id": "A78zjABHel1z"
      },
      "source": [
        "### Section II - Q5: Plot how many roles 'Keanu Reeves' has played in each year of his career."
      ]
    },
    {
      "cell_type": "code",
      "metadata": {
        "id": "8aU_kSf1el10",
        "colab": {
          "base_uri": "https://localhost:8080/",
          "height": 298
        },
        "outputId": "4ad7cd5c-681c-4f94-bce5-f37d9241dfb2"
      },
      "source": [
        "new_keanu = keanu_df.year.value_counts()\n",
        "new_keanu.sort_index(ascending = True, inplace=True)\n",
        "new_keanu.plot(kind='bar')\n"
      ],
      "execution_count": 181,
      "outputs": [
        {
          "output_type": "execute_result",
          "data": {
            "text/plain": [
              "<matplotlib.axes._subplots.AxesSubplot at 0x7f6817f02450>"
            ]
          },
          "metadata": {
            "tags": []
          },
          "execution_count": 181
        },
        {
          "output_type": "display_data",
          "data": {
            "image/png": "[encoded data removed]",
            "text/plain": [
              "<Figure size 432x288 with 1 Axes>"
            ]
          },
          "metadata": {
            "tags": [],
            "needs_background": "light"
          }
        }
      ]
    },
    {
      "cell_type": "markdown",
      "metadata": {
        "id": "0lwJqHLael10"
      },
      "source": [
        "### Section II - Q6: Plot the cast positions (n-values) of Keanu Reeve's roles through his career over the years.\n"
      ]
    },
    {
      "cell_type": "code",
      "metadata": {
        "id": "WbxZKMJVel10",
        "colab": {
          "base_uri": "https://localhost:8080/",
          "height": 296
        },
        "outputId": "ffb7743c-5009-4dec-eaee-63e5cd8b9c3d"
      },
      "source": [
        "keanu_df.plot(x ='year', y='n', kind = 'scatter')"
      ],
      "execution_count": 186,
      "outputs": [
        {
          "output_type": "execute_result",
          "data": {
            "text/plain": [
              "<matplotlib.axes._subplots.AxesSubplot at 0x7f6817b81310>"
            ]
          },
          "metadata": {
            "tags": []
          },
          "execution_count": 186
        },
        {
          "output_type": "display_data",
          "data": {
            "image/png": "[encoded data removed]",
            "text/plain": [
              "<Figure size 432x288 with 1 Axes>"
            ]
          },
          "metadata": {
            "tags": [],
            "needs_background": "light"
          }
        }
      ]
    },
    {
      "cell_type": "markdown",
      "metadata": {
        "id": "snC8Ltvtel10"
      },
      "source": [
        "### Section II - Q7: Plot the number of \"Hamlet\" films made by each decade"
      ]
    },
    {
      "cell_type": "code",
      "metadata": {
        "id": "SCZgA8PTel10",
        "colab": {
          "base_uri": "https://localhost:8080/",
          "height": 624
        },
        "outputId": "eeb1b81f-5e56-4003-b8fa-3ee421bcec48"
      },
      "source": [
        "hamlet = movies[movies.title.str.contains(\"Hamlet\")]\n",
        "hamlet_dec = hamlet.year.value_counts()\n",
        "hamlet_dec.sort_index(ascending=True,inplace=True)\n",
        "hamlet_dec.plot(kind='bar', figsize=(15,10))"
      ],
      "execution_count": 195,
      "outputs": [
        {
          "output_type": "execute_result",
          "data": {
            "text/plain": [
              "<matplotlib.axes._subplots.AxesSubplot at 0x7f68179c3fd0>"
            ]
          },
          "metadata": {
            "tags": []
          },
          "execution_count": 195
        },
        {
          "output_type": "display_data",
          "data": {
            "image/png": "[encoded data removed]",
            "text/plain": [
              "<Figure size 1080x720 with 1 Axes>"
            ]
          },
          "metadata": {
            "tags": [],
            "needs_background": "light"
          }
        }
      ]
    },
    {
      "cell_type": "markdown",
      "metadata": {
        "id": "TbvATGcbel11"
      },
      "source": [
        "### Section II - Q8: \n",
        "\n",
        "(A) How many leading roles were available to both actors and actresses, in the 1960s (1960-1969)?\n",
        "\n",
        "(B) How many leading roles were available to both actors and actresses, in the 2000s (2000-2009)?\n",
        "\n",
        "- Hint: A specific value of n might indicate a leading role"
      ]
    },
    {
      "cell_type": "code",
      "metadata": {
        "id": "Oo2wdaBqel11",
        "colab": {
          "base_uri": "https://localhost:8080/"
        },
        "outputId": "f88e9543-8de3-45b2-a04a-44770f731f71"
      },
      "source": [
        "leads = cast[(cast.year >= 1960) & (cast.year <= 1969) & (cast.n == 1.0)]\n",
        "len(leads)"
      ],
      "execution_count": 197,
      "outputs": [
        {
          "output_type": "execute_result",
          "data": {
            "text/plain": [
              "11823"
            ]
          },
          "metadata": {
            "tags": []
          },
          "execution_count": 197
        }
      ]
    },
    {
      "cell_type": "code",
      "metadata": {
        "id": "LFBLEmYQel11",
        "colab": {
          "base_uri": "https://localhost:8080/"
        },
        "outputId": "3d40b92f-8c0e-4018-8286-c5ccb5a6c8b8"
      },
      "source": [
        "leads = cast[(cast.year >= 2000) & (cast.year <= 2009) & (cast.n == 1.0)]\n",
        "len(leads)"
      ],
      "execution_count": 198,
      "outputs": [
        {
          "output_type": "execute_result",
          "data": {
            "text/plain": [
              "26344"
            ]
          },
          "metadata": {
            "tags": []
          },
          "execution_count": 198
        }
      ]
    },
    {
      "cell_type": "markdown",
      "metadata": {
        "id": "kl3GPCl6el11"
      },
      "source": [
        "### Section II - Q9: List, in order by year, each of the films in which Frank Oz has played more than 1 role."
      ]
    },
    {
      "cell_type": "code",
      "metadata": {
        "id": "HfcJBm4pel11",
        "colab": {
          "base_uri": "https://localhost:8080/",
          "height": 390
        },
        "outputId": "5f7ae73f-ec62-481a-c047-d4150f75a6b4"
      },
      "source": [
        "frank = cast[cast.name == 'Frank Oz'].groupby(['title', 'year']).agg('count')\n",
        "frank = frank[['type']].rename(columns={'type': 'frankies'})\n",
        "frank.sort_values(by='year',inplace=True)\n",
        "frank = frank[frank.frankies > 1]\n",
        "frank\n",
        "\n"
      ],
      "execution_count": 240,
      "outputs": [
        {
          "output_type": "execute_result",
          "data": {
            "text/html": [
              "<div>\n",
              "<style scoped>\n",
              "    .dataframe tbody tr th:only-of-type {\n",
              "        vertical-align: middle;\n",
              "    }\n",
              "\n",
              "    .dataframe tbody tr th {\n",
              "        vertical-align: top;\n",
              "    }\n",
              "\n",
              "    .dataframe thead th {\n",
              "        text-align: right;\n",
              "    }\n",
              "</style>\n",
              "<table border=\"1\" class=\"dataframe\">\n",
              "  <thead>\n",
              "    <tr style=\"text-align: right;\">\n",
              "      <th></th>\n",
              "      <th></th>\n",
              "      <th>frankies</th>\n",
              "    </tr>\n",
              "    <tr>\n",
              "      <th>title</th>\n",
              "      <th>year</th>\n",
              "      <th></th>\n",
              "    </tr>\n",
              "  </thead>\n",
              "  <tbody>\n",
              "    <tr>\n",
              "      <th>The Muppet Movie</th>\n",
              "      <th>1979</th>\n",
              "      <td>8</td>\n",
              "    </tr>\n",
              "    <tr>\n",
              "      <th>An American Werewolf in London</th>\n",
              "      <th>1981</th>\n",
              "      <td>2</td>\n",
              "    </tr>\n",
              "    <tr>\n",
              "      <th>The Great Muppet Caper</th>\n",
              "      <th>1981</th>\n",
              "      <td>6</td>\n",
              "    </tr>\n",
              "    <tr>\n",
              "      <th>The Dark Crystal</th>\n",
              "      <th>1982</th>\n",
              "      <td>2</td>\n",
              "    </tr>\n",
              "    <tr>\n",
              "      <th>The Muppets Take Manhattan</th>\n",
              "      <th>1984</th>\n",
              "      <td>7</td>\n",
              "    </tr>\n",
              "    <tr>\n",
              "      <th>Follow That Bird</th>\n",
              "      <th>1985</th>\n",
              "      <td>3</td>\n",
              "    </tr>\n",
              "    <tr>\n",
              "      <th>The Muppet Christmas Carol</th>\n",
              "      <th>1992</th>\n",
              "      <td>7</td>\n",
              "    </tr>\n",
              "    <tr>\n",
              "      <th>Muppet Treasure Island</th>\n",
              "      <th>1996</th>\n",
              "      <td>4</td>\n",
              "    </tr>\n",
              "    <tr>\n",
              "      <th>Muppets from Space</th>\n",
              "      <th>1999</th>\n",
              "      <td>4</td>\n",
              "    </tr>\n",
              "    <tr>\n",
              "      <th>The Adventures of Elmo in Grouchland</th>\n",
              "      <th>1999</th>\n",
              "      <td>3</td>\n",
              "    </tr>\n",
              "  </tbody>\n",
              "</table>\n",
              "</div>"
            ],
            "text/plain": [
              "                                           frankies\n",
              "title                                year          \n",
              "The Muppet Movie                     1979         8\n",
              "An American Werewolf in London       1981         2\n",
              "The Great Muppet Caper               1981         6\n",
              "The Dark Crystal                     1982         2\n",
              "The Muppets Take Manhattan           1984         7\n",
              "Follow That Bird                     1985         3\n",
              "The Muppet Christmas Carol           1992         7\n",
              "Muppet Treasure Island               1996         4\n",
              "Muppets from Space                   1999         4\n",
              "The Adventures of Elmo in Grouchland 1999         3"
            ]
          },
          "metadata": {
            "tags": []
          },
          "execution_count": 240
        }
      ]
    },
    {
      "cell_type": "markdown",
      "metadata": {
        "id": "XgxCKkv8el11"
      },
      "source": [
        "### Section II - Q10: List each of the characters that Frank Oz has portrayed at least twice"
      ]
    },
    {
      "cell_type": "code",
      "metadata": {
        "id": "13x-I-kOel11",
        "colab": {
          "base_uri": "https://localhost:8080/",
          "height": 328
        },
        "outputId": "29a16173-d855-46f9-8cdb-2e9627a3a9e8"
      },
      "source": [
        "frank = cast[cast.name == 'Frank Oz'].groupby(['character']).agg('count')\n",
        "frank = frank[['type']].rename(columns={'type': 'times'})\n",
        "frank = frank[frank.times > 1]\n",
        "frank"
      ],
      "execution_count": 245,
      "outputs": [
        {
          "output_type": "execute_result",
          "data": {
            "text/html": [
              "<div>\n",
              "<style scoped>\n",
              "    .dataframe tbody tr th:only-of-type {\n",
              "        vertical-align: middle;\n",
              "    }\n",
              "\n",
              "    .dataframe tbody tr th {\n",
              "        vertical-align: top;\n",
              "    }\n",
              "\n",
              "    .dataframe thead th {\n",
              "        text-align: right;\n",
              "    }\n",
              "</style>\n",
              "<table border=\"1\" class=\"dataframe\">\n",
              "  <thead>\n",
              "    <tr style=\"text-align: right;\">\n",
              "      <th></th>\n",
              "      <th>times</th>\n",
              "    </tr>\n",
              "    <tr>\n",
              "      <th>character</th>\n",
              "      <th></th>\n",
              "    </tr>\n",
              "  </thead>\n",
              "  <tbody>\n",
              "    <tr>\n",
              "      <th>Animal</th>\n",
              "      <td>6</td>\n",
              "    </tr>\n",
              "    <tr>\n",
              "      <th>Bert</th>\n",
              "      <td>3</td>\n",
              "    </tr>\n",
              "    <tr>\n",
              "      <th>Cookie Monster</th>\n",
              "      <td>5</td>\n",
              "    </tr>\n",
              "    <tr>\n",
              "      <th>Fozzie Bear</th>\n",
              "      <td>4</td>\n",
              "    </tr>\n",
              "    <tr>\n",
              "      <th>Grover</th>\n",
              "      <td>2</td>\n",
              "    </tr>\n",
              "    <tr>\n",
              "      <th>Miss Piggy</th>\n",
              "      <td>6</td>\n",
              "    </tr>\n",
              "    <tr>\n",
              "      <th>Sam the Eagle</th>\n",
              "      <td>5</td>\n",
              "    </tr>\n",
              "    <tr>\n",
              "      <th>Yoda</th>\n",
              "      <td>6</td>\n",
              "    </tr>\n",
              "  </tbody>\n",
              "</table>\n",
              "</div>"
            ],
            "text/plain": [
              "                times\n",
              "character            \n",
              "Animal              6\n",
              "Bert                3\n",
              "Cookie Monster      5\n",
              "Fozzie Bear         4\n",
              "Grover              2\n",
              "Miss Piggy          6\n",
              "Sam the Eagle       5\n",
              "Yoda                6"
            ]
          },
          "metadata": {
            "tags": []
          },
          "execution_count": 245
        }
      ]
    },
    {
      "cell_type": "markdown",
      "metadata": {
        "id": "Z7qfQI1nel11"
      },
      "source": [
        "# Section III - Advanced Merging, Querying and Visualizations"
      ]
    },
    {
      "cell_type": "markdown",
      "metadata": {
        "id": "O2y2SpF6el12"
      },
      "source": [
        "## Make a bar plot with the following conditions\n",
        "- Frequency of the number of movies with \"Christmas\" in their title \n",
        "- Movies should be such that they are released in the USA.\n",
        "- Show the frequency plot by month"
      ]
    },
    {
      "cell_type": "code",
      "metadata": {
        "id": "b_-ohIiyel12",
        "colab": {
          "base_uri": "https://localhost:8080/",
          "height": 285
        },
        "outputId": "78859084-24a7-4d37-a706-c391261abcf6"
      },
      "source": [
        "christmas = release_dates[(release_dates.title.str.contains('Christmas')) & (release_dates.country == 'USA')]\n",
        "christmas.date.dt.month.value_counts().sort_index().plot(kind='bar')"
      ],
      "execution_count": 246,
      "outputs": [
        {
          "output_type": "execute_result",
          "data": {
            "text/plain": [
              "<matplotlib.axes._subplots.AxesSubplot at 0x7f68176a85d0>"
            ]
          },
          "metadata": {
            "tags": []
          },
          "execution_count": 246
        },
        {
          "output_type": "display_data",
          "data": {
            "image/png": "[encoded data removed]",
            "text/plain": [
              "<Figure size 432x288 with 1 Axes>"
            ]
          },
          "metadata": {
            "tags": [],
            "needs_background": "light"
          }
        }
      ]
    },
    {
      "cell_type": "markdown",
      "metadata": {
        "id": "KXK6t3gHel12"
      },
      "source": [
        "### Section III - Q1: Make a bar plot with the following conditions\n",
        "- Frequency of the number of movies with \"Summer\" in their title \n",
        "- Movies should be such that they are released in the USA.\n",
        "- Show the frequency plot by month"
      ]
    },
    {
      "cell_type": "code",
      "metadata": {
        "id": "oWKT6P9Pel12",
        "colab": {
          "base_uri": "https://localhost:8080/",
          "height": 285
        },
        "outputId": "a5d5ee78-ba02-4be8-a9ea-653edafcf510"
      },
      "source": [
        "summer = release_dates[release_dates.title.str.contains('Summer') & (release_dates.country == 'USA')]\n",
        "summer.date.dt.month.value_counts().sort_index().plot(kind='bar')"
      ],
      "execution_count": 247,
      "outputs": [
        {
          "output_type": "execute_result",
          "data": {
            "text/plain": [
              "<matplotlib.axes._subplots.AxesSubplot at 0x7f6817460ad0>"
            ]
          },
          "metadata": {
            "tags": []
          },
          "execution_count": 247
        },
        {
          "output_type": "display_data",
          "data": {
            "image/png": "[encoded data removed]",
            "text/plain": [
              "<Figure size 432x288 with 1 Axes>"
            ]
          },
          "metadata": {
            "tags": [],
            "needs_background": "light"
          }
        }
      ]
    },
    {
      "cell_type": "markdown",
      "metadata": {
        "id": "9ZwEYLdRel12"
      },
      "source": [
        "### Section III - Q2: Make a bar plot with the following conditions\n",
        "- Frequency of the number of movies with \"Action\" in their title \n",
        "- Movies should be such that they are released in the USA.\n",
        "- Show the frequency plot by week"
      ]
    },
    {
      "cell_type": "code",
      "metadata": {
        "id": "nj61Xe8Fel12",
        "colab": {
          "base_uri": "https://localhost:8080/",
          "height": 339
        },
        "outputId": "85b1a299-d93e-45ef-9d75-795c68392ae7"
      },
      "source": [
        "action = release_dates[release_dates.title.str.contains('Action') & (release_dates.country == 'USA')]\n",
        "action.date.dt.week.value_counts().sort_index().plot(kind='bar')"
      ],
      "execution_count": 259,
      "outputs": [
        {
          "output_type": "stream",
          "text": [
            "/usr/local/lib/python3.7/dist-packages/ipykernel_launcher.py:2: FutureWarning: Series.dt.weekofyear and Series.dt.week have been deprecated.  Please use Series.dt.isocalendar().week instead.\n",
            "  \n"
          ],
          "name": "stderr"
        },
        {
          "output_type": "execute_result",
          "data": {
            "text/plain": [
              "<matplotlib.axes._subplots.AxesSubplot at 0x7f68171efd90>"
            ]
          },
          "metadata": {
            "tags": []
          },
          "execution_count": 259
        },
        {
          "output_type": "display_data",
          "data": {
            "image/png": "[encoded data removed]",
            "text/plain": [
              "<Figure size 432x288 with 1 Axes>"
            ]
          },
          "metadata": {
            "tags": [],
            "needs_background": "light"
          }
        }
      ]
    },
    {
      "cell_type": "markdown",
      "metadata": {
        "id": "YMypqT3lel12"
      },
      "source": [
        "### Section III - Q3: Show all the movies in which Keanu Reeves has played the lead role along with their   release date in the USA sorted by the date of release\n",
        "- Hint: You might need to join or merge two datasets!"
      ]
    },
    {
      "cell_type": "code",
      "metadata": {
        "id": "BBewbMu6el13",
        "colab": {
          "base_uri": "https://localhost:8080/",
          "height": 855
        },
        "outputId": "63772e14-4c7b-4fea-e0fc-93225ca25d02"
      },
      "source": [
        "keanu_lead = cast[(cast.name == 'Keanu Reeves') & (cast.n == 1.0)]\n",
        "keanu_lead = pd.merge(keanu_lead, release_dates, how='left', on='title')\n",
        "keanu_usa = keanu_lead[keanu_lead.country == 'USA']\n",
        "keanu_usa = keanu_usa[['title', 'name', 'character','country','date']]\n",
        "keanu_usa.sort_values(by='date', inplace=True)\n",
        "keanu_usa\n",
        "\n"
      ],
      "execution_count": 258,
      "outputs": [
        {
          "output_type": "execute_result",
          "data": {
            "text/html": [
              "<div>\n",
              "<style scoped>\n",
              "    .dataframe tbody tr th:only-of-type {\n",
              "        vertical-align: middle;\n",
              "    }\n",
              "\n",
              "    .dataframe tbody tr th {\n",
              "        vertical-align: top;\n",
              "    }\n",
              "\n",
              "    .dataframe thead th {\n",
              "        text-align: right;\n",
              "    }\n",
              "</style>\n",
              "<table border=\"1\" class=\"dataframe\">\n",
              "  <thead>\n",
              "    <tr style=\"text-align: right;\">\n",
              "      <th></th>\n",
              "      <th>title</th>\n",
              "      <th>name</th>\n",
              "      <th>character</th>\n",
              "      <th>country</th>\n",
              "      <th>date</th>\n",
              "    </tr>\n",
              "  </thead>\n",
              "  <tbody>\n",
              "    <tr>\n",
              "      <th>446</th>\n",
              "      <td>Speed</td>\n",
              "      <td>Keanu Reeves</td>\n",
              "      <td>Jack Traven</td>\n",
              "      <td>USA</td>\n",
              "      <td>1922-10-22</td>\n",
              "    </tr>\n",
              "    <tr>\n",
              "      <th>448</th>\n",
              "      <td>Speed</td>\n",
              "      <td>Keanu Reeves</td>\n",
              "      <td>Jack Traven</td>\n",
              "      <td>USA</td>\n",
              "      <td>1936-05-08</td>\n",
              "    </tr>\n",
              "    <tr>\n",
              "      <th>522</th>\n",
              "      <td>Sweet November</td>\n",
              "      <td>Keanu Reeves</td>\n",
              "      <td>Nelson Moss</td>\n",
              "      <td>USA</td>\n",
              "      <td>1968-02-08</td>\n",
              "    </tr>\n",
              "    <tr>\n",
              "      <th>742</th>\n",
              "      <td>The Night Before</td>\n",
              "      <td>Keanu Reeves</td>\n",
              "      <td>Winston Connelly</td>\n",
              "      <td>USA</td>\n",
              "      <td>1988-04-15</td>\n",
              "    </tr>\n",
              "    <tr>\n",
              "      <th>78</th>\n",
              "      <td>Bill &amp; Ted's Excellent Adventure</td>\n",
              "      <td>Keanu Reeves</td>\n",
              "      <td>Ted</td>\n",
              "      <td>USA</td>\n",
              "      <td>1989-02-17</td>\n",
              "    </tr>\n",
              "    <tr>\n",
              "      <th>69</th>\n",
              "      <td>Bill &amp; Ted's Bogus Journey</td>\n",
              "      <td>Keanu Reeves</td>\n",
              "      <td>Ted</td>\n",
              "      <td>USA</td>\n",
              "      <td>1991-07-19</td>\n",
              "    </tr>\n",
              "    <tr>\n",
              "      <th>434</th>\n",
              "      <td>Little Buddha</td>\n",
              "      <td>Keanu Reeves</td>\n",
              "      <td>Siddhartha</td>\n",
              "      <td>USA</td>\n",
              "      <td>1994-05-25</td>\n",
              "    </tr>\n",
              "    <tr>\n",
              "      <th>451</th>\n",
              "      <td>Speed</td>\n",
              "      <td>Keanu Reeves</td>\n",
              "      <td>Jack Traven</td>\n",
              "      <td>USA</td>\n",
              "      <td>1994-06-10</td>\n",
              "    </tr>\n",
              "    <tr>\n",
              "      <th>371</th>\n",
              "      <td>Johnny Mnemonic</td>\n",
              "      <td>Keanu Reeves</td>\n",
              "      <td>Johnny Mnemonic</td>\n",
              "      <td>USA</td>\n",
              "      <td>1995-05-26</td>\n",
              "    </tr>\n",
              "    <tr>\n",
              "      <th>49</th>\n",
              "      <td>A Walk in the Clouds</td>\n",
              "      <td>Keanu Reeves</td>\n",
              "      <td>Paul Sutton</td>\n",
              "      <td>USA</td>\n",
              "      <td>1995-08-11</td>\n",
              "    </tr>\n",
              "    <tr>\n",
              "      <th>91</th>\n",
              "      <td>Chain Reaction</td>\n",
              "      <td>Keanu Reeves</td>\n",
              "      <td>Eddie Kasalivich</td>\n",
              "      <td>USA</td>\n",
              "      <td>1996-08-02</td>\n",
              "    </tr>\n",
              "    <tr>\n",
              "      <th>190</th>\n",
              "      <td>Feeling Minnesota</td>\n",
              "      <td>Keanu Reeves</td>\n",
              "      <td>Jjaks Clayton</td>\n",
              "      <td>USA</td>\n",
              "      <td>1996-09-13</td>\n",
              "    </tr>\n",
              "    <tr>\n",
              "      <th>621</th>\n",
              "      <td>The Devil's Advocate</td>\n",
              "      <td>Keanu Reeves</td>\n",
              "      <td>Kevin Lomax</td>\n",
              "      <td>USA</td>\n",
              "      <td>1997-10-17</td>\n",
              "    </tr>\n",
              "    <tr>\n",
              "      <th>699</th>\n",
              "      <td>The Matrix</td>\n",
              "      <td>Keanu Reeves</td>\n",
              "      <td>Neo</td>\n",
              "      <td>USA</td>\n",
              "      <td>1999-03-31</td>\n",
              "    </tr>\n",
              "    <tr>\n",
              "      <th>743</th>\n",
              "      <td>The Replacements</td>\n",
              "      <td>Keanu Reeves</td>\n",
              "      <td>Shane Falco</td>\n",
              "      <td>USA</td>\n",
              "      <td>2000-08-11</td>\n",
              "    </tr>\n",
              "    <tr>\n",
              "      <th>526</th>\n",
              "      <td>Sweet November</td>\n",
              "      <td>Keanu Reeves</td>\n",
              "      <td>Nelson Moss</td>\n",
              "      <td>USA</td>\n",
              "      <td>2001-02-16</td>\n",
              "    </tr>\n",
              "    <tr>\n",
              "      <th>205</th>\n",
              "      <td>Hard Ball</td>\n",
              "      <td>Keanu Reeves</td>\n",
              "      <td>Conor O'Neill</td>\n",
              "      <td>USA</td>\n",
              "      <td>2001-09-14</td>\n",
              "    </tr>\n",
              "    <tr>\n",
              "      <th>150</th>\n",
              "      <td>Constantine</td>\n",
              "      <td>Keanu Reeves</td>\n",
              "      <td>John Constantine</td>\n",
              "      <td>USA</td>\n",
              "      <td>2005-02-18</td>\n",
              "    </tr>\n",
              "    <tr>\n",
              "      <th>659</th>\n",
              "      <td>The Lake House</td>\n",
              "      <td>Keanu Reeves</td>\n",
              "      <td>Alex Wyler</td>\n",
              "      <td>USA</td>\n",
              "      <td>2006-06-16</td>\n",
              "    </tr>\n",
              "    <tr>\n",
              "      <th>485</th>\n",
              "      <td>Street Kings</td>\n",
              "      <td>Keanu Reeves</td>\n",
              "      <td>Detective Tom Ludlow</td>\n",
              "      <td>USA</td>\n",
              "      <td>2008-04-11</td>\n",
              "    </tr>\n",
              "    <tr>\n",
              "      <th>609</th>\n",
              "      <td>The Day the Earth Stood Still</td>\n",
              "      <td>Keanu Reeves</td>\n",
              "      <td>Klaatu</td>\n",
              "      <td>USA</td>\n",
              "      <td>2008-12-12</td>\n",
              "    </tr>\n",
              "    <tr>\n",
              "      <th>9</th>\n",
              "      <td>47 Ronin</td>\n",
              "      <td>Keanu Reeves</td>\n",
              "      <td>Kai</td>\n",
              "      <td>USA</td>\n",
              "      <td>2013-12-25</td>\n",
              "    </tr>\n",
              "    <tr>\n",
              "      <th>248</th>\n",
              "      <td>John Wick</td>\n",
              "      <td>Keanu Reeves</td>\n",
              "      <td>John Wick</td>\n",
              "      <td>USA</td>\n",
              "      <td>2014-10-24</td>\n",
              "    </tr>\n",
              "    <tr>\n",
              "      <th>407</th>\n",
              "      <td>Knock Knock</td>\n",
              "      <td>Keanu Reeves</td>\n",
              "      <td>Evan</td>\n",
              "      <td>USA</td>\n",
              "      <td>2015-10-09</td>\n",
              "    </tr>\n",
              "    <tr>\n",
              "      <th>325</th>\n",
              "      <td>John Wick: Chapter 2</td>\n",
              "      <td>Keanu Reeves</td>\n",
              "      <td>John Wick</td>\n",
              "      <td>USA</td>\n",
              "      <td>2017-02-10</td>\n",
              "    </tr>\n",
              "    <tr>\n",
              "      <th>421</th>\n",
              "      <td>Knock Knock</td>\n",
              "      <td>Keanu Reeves</td>\n",
              "      <td>Evan</td>\n",
              "      <td>USA</td>\n",
              "      <td>2017-10-06</td>\n",
              "    </tr>\n",
              "  </tbody>\n",
              "</table>\n",
              "</div>"
            ],
            "text/plain": [
              "                                title          name  ... country       date\n",
              "446                             Speed  Keanu Reeves  ...     USA 1922-10-22\n",
              "448                             Speed  Keanu Reeves  ...     USA 1936-05-08\n",
              "522                    Sweet November  Keanu Reeves  ...     USA 1968-02-08\n",
              "742                  The Night Before  Keanu Reeves  ...     USA 1988-04-15\n",
              "78   Bill & Ted's Excellent Adventure  Keanu Reeves  ...     USA 1989-02-17\n",
              "69         Bill & Ted's Bogus Journey  Keanu Reeves  ...     USA 1991-07-19\n",
              "434                     Little Buddha  Keanu Reeves  ...     USA 1994-05-25\n",
              "451                             Speed  Keanu Reeves  ...     USA 1994-06-10\n",
              "371                   Johnny Mnemonic  Keanu Reeves  ...     USA 1995-05-26\n",
              "49               A Walk in the Clouds  Keanu Reeves  ...     USA 1995-08-11\n",
              "91                     Chain Reaction  Keanu Reeves  ...     USA 1996-08-02\n",
              "190                 Feeling Minnesota  Keanu Reeves  ...     USA 1996-09-13\n",
              "621              The Devil's Advocate  Keanu Reeves  ...     USA 1997-10-17\n",
              "699                        The Matrix  Keanu Reeves  ...     USA 1999-03-31\n",
              "743                  The Replacements  Keanu Reeves  ...     USA 2000-08-11\n",
              "526                    Sweet November  Keanu Reeves  ...     USA 2001-02-16\n",
              "205                         Hard Ball  Keanu Reeves  ...     USA 2001-09-14\n",
              "150                       Constantine  Keanu Reeves  ...     USA 2005-02-18\n",
              "659                    The Lake House  Keanu Reeves  ...     USA 2006-06-16\n",
              "485                      Street Kings  Keanu Reeves  ...     USA 2008-04-11\n",
              "609     The Day the Earth Stood Still  Keanu Reeves  ...     USA 2008-12-12\n",
              "9                            47 Ronin  Keanu Reeves  ...     USA 2013-12-25\n",
              "248                         John Wick  Keanu Reeves  ...     USA 2014-10-24\n",
              "407                       Knock Knock  Keanu Reeves  ...     USA 2015-10-09\n",
              "325              John Wick: Chapter 2  Keanu Reeves  ...     USA 2017-02-10\n",
              "421                       Knock Knock  Keanu Reeves  ...     USA 2017-10-06\n",
              "\n",
              "[26 rows x 5 columns]"
            ]
          },
          "metadata": {
            "tags": []
          },
          "execution_count": 258
        }
      ]
    },
    {
      "cell_type": "markdown",
      "metadata": {
        "id": "DjurkaoDel13"
      },
      "source": [
        "### Section III - Q4: Make a bar plot showing the months in which movies with Keanu Reeves tend to be released in the USA?"
      ]
    },
    {
      "cell_type": "code",
      "metadata": {
        "id": "GraiSY6Pel13",
        "colab": {
          "base_uri": "https://localhost:8080/",
          "height": 285
        },
        "outputId": "b3013976-cc76-4146-89ac-64c1454242bc"
      },
      "source": [
        "keanu_usa.date.dt.month.value_counts().sort_index().plot(kind='bar')"
      ],
      "execution_count": 261,
      "outputs": [
        {
          "output_type": "execute_result",
          "data": {
            "text/plain": [
              "<matplotlib.axes._subplots.AxesSubplot at 0x7f6817201bd0>"
            ]
          },
          "metadata": {
            "tags": []
          },
          "execution_count": 261
        },
        {
          "output_type": "display_data",
          "data": {
            "image/png": "[encoded data removed]",
            "text/plain": [
              "<Figure size 432x288 with 1 Axes>"
            ]
          },
          "metadata": {
            "tags": [],
            "needs_background": "light"
          }
        }
      ]
    },
    {
      "cell_type": "markdown",
      "metadata": {
        "id": "wAsr-YxDel13"
      },
      "source": [
        "### Section III - Q5: Make a bar plot showing the years in which movies with Ian McKellen tend to be released in the USA?"
      ]
    },
    {
      "cell_type": "code",
      "metadata": {
        "id": "AgW9w-H2el13",
        "colab": {
          "base_uri": "https://localhost:8080/",
          "height": 298
        },
        "outputId": "039af981-1881-48ea-b322-7699a935c00d"
      },
      "source": [
        "ian_lead = cast[(cast.name == 'Ian McKellen')]\n",
        "ian_lead = pd.merge(ian_lead, release_dates, how='left', on='title')\n",
        "ian_usa = ian_lead[ian_lead.country == 'USA']\n",
        "ian_usa = ian_usa[['title', 'name', 'character','country','date']]\n",
        "ian_usa.sort_values(by='date', inplace=True)\n",
        "ian_usa.date.dt.year.value_counts().sort_index().plot(kind='bar')"
      ],
      "execution_count": 263,
      "outputs": [
        {
          "output_type": "execute_result",
          "data": {
            "text/plain": [
              "<matplotlib.axes._subplots.AxesSubplot at 0x7f6817015ed0>"
            ]
          },
          "metadata": {
            "tags": []
          },
          "execution_count": 263
        },
        {
          "output_type": "display_data",
          "data": {
            "image/png": "[encoded data removed]",
            "text/plain": [
              "<Figure size 432x288 with 1 Axes>"
            ]
          },
          "metadata": {
            "tags": [],
            "needs_background": "light"
          }
        }
      ]
    }
  ]
}