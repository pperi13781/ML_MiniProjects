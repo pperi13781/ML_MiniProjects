{
  "nbformat": 4,
  "nbformat_minor": 0,
  "metadata": {
    "kernelspec": {
      "display_name": "Python 3",
      "language": "python",
      "name": "python3"
    },
    "language_info": {
      "codemirror_mode": {
        "name": "ipython",
        "version": 3
      },
      "file_extension": ".py",
      "mimetype": "text/x-python",
      "name": "python",
      "nbconvert_exporter": "python",
      "pygments_lexer": "ipython3",
      "version": "3.6.4"
    },
    "colab": {
      "name": "api_data_wrangling_mini_project.ipynb",
      "provenance": [],
      "collapsed_sections": []
    }
  },
  "cells": [
    {
      "cell_type": "markdown",
      "metadata": {
        "id": "moFMHHknONQi"
      },
      "source": [
        "This exercise will require you to pull some data from the Qunadl API. Qaundl is currently the most widely used aggregator of financial market data."
      ]
    },
    {
      "cell_type": "markdown",
      "metadata": {
        "id": "nHFqBtlsONQn"
      },
      "source": [
        "As a first step, you will need to register a free account on the http://www.quandl.com website."
      ]
    },
    {
      "cell_type": "markdown",
      "metadata": {
        "id": "UTs3EskGONQo"
      },
      "source": [
        "After you register, you will be provided with a unique API key, that you should store:"
      ]
    },
    {
      "cell_type": "code",
      "metadata": {
        "collapsed": true,
        "id": "H8Dj74jYONQo"
      },
      "source": [
        "# Store the API key as a string - according to PEP8, constants are always named in all upper case\n",
        "API_KEY = 'H8gH_wN6gyjTufgApRj2'"
      ],
      "execution_count": 6,
      "outputs": []
    },
    {
      "cell_type": "markdown",
      "metadata": {
        "id": "PkvrrV6rONQp"
      },
      "source": [
        "Qaundl has a large number of data sources, but, unfortunately, most of them require a Premium subscription. Still, there are also a good number of free datasets."
      ]
    },
    {
      "cell_type": "markdown",
      "metadata": {
        "id": "ONCMYFEkONQp"
      },
      "source": [
        "For this mini project, we will focus on equities data from the Frankfurt Stock Exhange (FSE), which is available for free. We'll try and analyze the stock prices of a company called Carl Zeiss Meditec, which manufactures tools for eye examinations, as well as medical lasers for laser eye surgery: https://www.zeiss.com/meditec/int/home.html. The company is listed under the stock ticker AFX_X."
      ]
    },
    {
      "cell_type": "markdown",
      "metadata": {
        "id": "Y5fpnlpUONQp"
      },
      "source": [
        "You can find the detailed Quandl API instructions here: https://docs.quandl.com/docs/time-series"
      ]
    },
    {
      "cell_type": "markdown",
      "metadata": {
        "id": "81wELBigONQq"
      },
      "source": [
        "While there is a dedicated Python package for connecting to the Quandl API, we would prefer that you use the *requests* package, which can be easily downloaded using *pip* or *conda*. You can find the documentation for the package here: http://docs.python-requests.org/en/master/ "
      ]
    },
    {
      "cell_type": "markdown",
      "metadata": {
        "id": "xs0GNG6vONQq"
      },
      "source": [
        "Finally, apart from the *requests* package, you are encouraged to not use any third party Python packages, such as *pandas*, and instead focus on what's available in the Python Standard Library (the *collections* module might come in handy: https://pymotw.com/3/collections/).\n",
        "Also, since you won't have access to DataFrames, you are encouraged to us Python's native data structures - preferably dictionaries, though some questions can also be answered using lists.\n",
        "You can read more on these data structures here: https://docs.python.org/3/tutorial/datastructures.html"
      ]
    },
    {
      "cell_type": "markdown",
      "metadata": {
        "id": "5w3KbaT0ONQq"
      },
      "source": [
        "Keep in mind that the JSON responses you will be getting from the API map almost one-to-one to Python's dictionaries. Unfortunately, they can be very nested, so make sure you read up on indexing dictionaries in the documentation provided above."
      ]
    },
    {
      "cell_type": "code",
      "metadata": {
        "collapsed": true,
        "id": "p0fDDeawONQq"
      },
      "source": [
        "# First, import the relevant modules\n",
        "import requests\n",
        "import json"
      ],
      "execution_count": 7,
      "outputs": []
    },
    {
      "cell_type": "code",
      "metadata": {
        "collapsed": true,
        "id": "QCWCfC-lONQr"
      },
      "source": [
        "# Now, call the Quandl API and pull out a small sample of the data (only one day) to get a glimpse\n",
        "# into the JSON structure that will be returned\n",
        "\n",
        "r = requests.get(\"https://www.quandl.com/api/v3/datasets/WIKI/FB/data.json?start_date=2017-01-01&end_date=2017-12-31&api_key=H8gH_wN6gyjTufgApRj2\")"
      ],
      "execution_count": 8,
      "outputs": []
    },
    {
      "cell_type": "code",
      "metadata": {
        "collapsed": true,
        "id": "ILVrt1YJONQr"
      },
      "source": [
        "# Inspect the JSON structure of the object you created, and take note of how nested it is,\n",
        "# as well as the overall structure\n",
        "y = json.loads(r.text)\n",
        "z = y[\"dataset_data\"]\n",
        "column_names = z[\"column_names\"]\n",
        "data_set = z[\"data\"]"
      ],
      "execution_count": 9,
      "outputs": []
    },
    {
      "cell_type": "markdown",
      "metadata": {
        "id": "6JsGcfNyONQr"
      },
      "source": [
        "These are your tasks for this mini project:\n",
        "\n",
        "1. Collect data from the Franfurt Stock Exchange, for the ticker AFX_X, for the whole year 2017 (keep in mind that the date format is YYYY-MM-DD).\n",
        "2. Convert the returned JSON object into a Python dictionary.\n",
        "3. Calculate what the highest and lowest opening prices were for the stock in this period.\n",
        "4. What was the largest change in any one day (based on High and Low price)?\n",
        "5. What was the largest change between any two days (based on Closing Price)?\n",
        "6. What was the average daily trading volume during this year?\n",
        "7. (Optional) What was the median trading volume during this year. (Note: you may need to implement your own function for calculating the median.)"
      ]
    },
    {
      "cell_type": "code",
      "metadata": {
        "collapsed": true,
        "id": "6t6Zz-1dONQr",
        "colab": {
          "base_uri": "https://localhost:8080/"
        },
        "outputId": "25ac1812-79e1-4080-cbd4-6c939fdff394"
      },
      "source": [
        "high_index = column_names.index(\"High\")\n",
        "highest_number = 0\n",
        "\n",
        "for data_list in data_set:\n",
        "  if data_list[high_index] > highest_number:\n",
        "    highest_number = data_list[high_index]\n",
        "  else:\n",
        "    continue\n",
        "\n",
        "print(highest_number)\n",
        "\n",
        "low_index = column_names.index(\"Low\")\n",
        "lowest_number = data_set[0][low_index]\n",
        "\n",
        "for data_list in data_set:\n",
        "  if data_list[low_index] < lowest_number:\n",
        "    lowest_number = data_list[low_index]\n",
        "  else:\n",
        "    continue \n",
        "\n",
        "print(lowest_number)\n",
        "\n",
        "largest_difference = 0\n",
        "\n",
        "for data_list in data_set:\n",
        "  if data_list[high_index] - data_list[low_index] > largest_difference:\n",
        "    largest_difference = data_list[high_index] - data_list[low_index]\n",
        "  else: continue\n",
        "\n",
        "print(largest_difference)\n",
        "\n",
        "closing_index = column_names.index(\"Close\")\n",
        "largest_change_closing = 0\n",
        "last_closing = data_set[0][closing_index]\n",
        "\n",
        "for data_list in data_set:\n",
        "  x = data_list[closing_index]\n",
        "  if abs(x - last_closing) > largest_change_closing:\n",
        "    largest_change_closing = abs(x - last_closing)\n",
        "    last_closing = data_list[closing_index]\n",
        "  else:\n",
        "    last_closing = data_list[closing_index]\n",
        "    continue\n",
        "\n",
        "print(largest_change_closing)\n",
        "\n",
        "volume_index = column_names.index(\"Volume\")\n",
        "volume_sum = 0\n",
        "\n",
        "for data_list in data_set:\n",
        "  volume_sum += data_list[volume_index]\n",
        "\n",
        "average_volume = volume_sum / len(data_set)\n",
        "\n",
        "print(average_volume)\n",
        "\n",
        "\n",
        "\n",
        "\n",
        "\n",
        "\n",
        "\n",
        "\n",
        "\n",
        "\n",
        "\n",
        "\n"
      ],
      "execution_count": 10,
      "outputs": [
        {
          "output_type": "stream",
          "text": [
            "184.25\n",
            "115.51\n",
            "8.97999999999999\n",
            "7.6699999999999875\n",
            "16468073.856\n"
          ],
          "name": "stdout"
        }
      ]
    }
  ]
}